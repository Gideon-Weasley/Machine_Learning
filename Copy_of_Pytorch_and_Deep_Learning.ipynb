{
  "cells": [
    {
      "cell_type": "markdown",
      "metadata": {
        "id": "view-in-github",
        "colab_type": "text"
      },
      "source": [
        "<a href=\"https://colab.research.google.com/github/Gideon-Weasley/Machine_Learning/blob/main/Copy_of_Pytorch_and_Deep_Learning.ipynb\" target=\"_parent\"><img src=\"https://colab.research.google.com/assets/colab-badge.svg\" alt=\"Open In Colab\"/></a>"
      ]
    },
    {
      "cell_type": "markdown",
      "metadata": {
        "id": "w-kg1R1a9nAj"
      },
      "source": [
        "### Pytorch"
      ]
    },
    {
      "cell_type": "markdown",
      "metadata": {
        "id": "-v6DfB1C9pdu"
      },
      "source": [
        "Pytorch is an [open source](https://github.com/pytorch/pytorch) machine\n",
        "\n",
        "*   List item\n",
        "\n",
        "*   List item\n",
        "*   List item\n",
        "\n",
        "\n",
        "*   List item\n",
        "\n",
        "learning and deep learning framework. It allows us to easily define and train complex deep neural networks and process data.\n",
        "\n",
        "Installation: https://pytorch.org/get-started/locally/\n",
        "\n",
        "Contents\n",
        "- Tensors and tensor operations\n",
        "- Autograd\n",
        "- Building a simple linear regression model\n",
        "- Building a simple neural network for classification\n",
        "\n",
        "Remember - when in doubt, [the documentation](https://pytorch.org/docs/stable/index.html#) is your best friend! Don't be afraid to google things when you get stuck either."
      ]
    },
    {
      "cell_type": "markdown",
      "metadata": {
        "id": "y9YiB6RCBbCb"
      },
      "source": [
        "### Working with tensors"
      ]
    },
    {
      "cell_type": "markdown",
      "metadata": {
        "id": "3aFkB5dchX_P"
      },
      "source": [
        "Tensors are a specialized data structure that are very similar to arrays and matrices. In PyTorch, we use tensors to encode the inputs and outputs of a model, as well as the model's parameters."
      ]
    },
    {
      "cell_type": "markdown",
      "metadata": {
        "id": "0MhIuDfsiHS-"
      },
      "source": [
        "![00-scalar-vector-matrix-tensor.png](data:image/png;base64,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)"
      ]
    },
    {
      "cell_type": "code",
      "execution_count": null,
      "metadata": {
        "id": "vWfoniwZ21Ko"
      },
      "outputs": [],
      "source": [
        "import torch # Importing the pytorch library\n",
        "import numpy as np"
      ]
    },
    {
      "cell_type": "markdown",
      "metadata": {
        "id": "mjzczth9ptPp"
      },
      "source": [
        "#### Initializing tensors"
      ]
    },
    {
      "cell_type": "code",
      "execution_count": null,
      "metadata": {
        "colab": {
          "base_uri": "https://localhost:8080/"
        },
        "id": "2O5TahWmhfe8",
        "outputId": "d2642212-f2b5-473a-aeda-98543fc446b1"
      },
      "outputs": [
        {
          "data": {
            "text/plain": [
              "tensor(0)"
            ]
          },
          "execution_count": 3,
          "metadata": {},
          "output_type": "execute_result"
        }
      ],
      "source": [
        "scalar = torch.tensor(0)\n",
        "scalar"
      ]
    },
    {
      "cell_type": "code",
      "execution_count": null,
      "metadata": {
        "colab": {
          "base_uri": "https://localhost:8080/"
        },
        "id": "x70_m_6zjBOw",
        "outputId": "1e5259cd-e24b-449c-e329-271d71e6f7a9"
      },
      "outputs": [
        {
          "name": "stdout",
          "output_type": "stream",
          "text": [
            "The tensor has 0 dimensions and shape torch.Size([])\n"
          ]
        }
      ],
      "source": [
        "print(f\"The tensor has {scalar.ndim} dimensions and shape {scalar.shape}\")\n",
        "''' ndim - dimension ,shape -nno. of subi=units'''"
      ]
    },
    {
      "cell_type": "code",
      "execution_count": null,
      "metadata": {
        "colab": {
          "base_uri": "https://localhost:8080/"
        },
        "id": "aVRO1AObjFyY",
        "outputId": "86bfc887-58d2-4348-93c9-5001b635fd90"
      },
      "outputs": [
        {
          "name": "stdout",
          "output_type": "stream",
          "text": [
            "tensor([1, 2, 3, 4, 5]) has 1 dimension and shape torch.Size([5])\n"
          ]
        }
      ],
      "source": [
        "vector = torch.tensor([1, 2, 3, 4, 5])\n",
        "print(f\"{vector} has {vector.ndim} dimension and shape {vector.shape}\")"
      ]
    },
    {
      "cell_type": "code",
      "execution_count": null,
      "metadata": {
        "colab": {
          "base_uri": "https://localhost:8080/"
        },
        "id": "VugWlbHBjlbE",
        "outputId": "f922f5df-a614-4952-e4de-9ea8b11beb00"
      },
      "outputs": [
        {
          "name": "stdout",
          "output_type": "stream",
          "text": [
            "tensor([[1, 2, 3],\n",
            "        [4, 5, 6]]) has 2 dimension and shape torch.Size([2, 3])\n"
          ]
        }
      ],
      "source": [
        "matrix = torch.tensor([[1, 2, 3], [4, 5, 6]])\n",
        "print(f\"{matrix} has {matrix.ndim} dimension and shape {matrix.shape}\")"
      ]
    },
    {
      "cell_type": "code",
      "execution_count": null,
      "metadata": {
        "colab": {
          "base_uri": "https://localhost:8080/",
          "height": 122
        },
        "id": "nZHCguVqjs9f",
        "outputId": "44608c85-4306-4634-b817-52dcf59cbc4b"
      },
      "outputs": [
        {
          "name": "stdout",
          "output_type": "stream",
          "text": [
            "tensor([[[ 1,  2,  3],\n",
            "         [ 4,  5,  6]],\n",
            "\n",
            "        [[ 7,  8,  9],\n",
            "         [10, 11, 12]]]) has 3 dimension and shape torch.Size([2, 2, 3])\n"
          ]
        },
        {
          "data": {
            "application/vnd.google.colaboratory.intrinsic+json": {
              "type": "string"
            },
            "text/plain": [
              "' 2*2*3 - size as total 2 subunits, who have 2 subunits each who have 3 elements each'"
            ]
          },
          "execution_count": 6,
          "metadata": {},
          "output_type": "execute_result"
        }
      ],
      "source": [
        "tensor = torch.tensor([[[1, 2, 3], [4, 5, 6]], [[7, 8, 9], [10, 11, 12]]])\n",
        "print(f\"{tensor} has {tensor.ndim} dimension and shape {tensor.shape}\")\n",
        "''' 2*2*3 - size as total 2 subunits, who have 2 subunits each who have 3 elements each'''"
      ]
    },
    {
      "cell_type": "markdown",
      "metadata": {
        "id": "SBE5bDzYqOe1"
      },
      "source": [
        "What is the shape of the tensor given below?"
      ]
    },
    {
      "cell_type": "markdown",
      "metadata": {
        "id": "EK1yJPGAqMYC"
      },
      "source": [
        "![image.png](data:image/png;base64,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)"
      ]
    },
    {
      "cell_type": "code",
      "execution_count": null,
      "metadata": {
        "colab": {
          "base_uri": "https://localhost:8080/"
        },
        "id": "M0gEQPvokUsl",
        "outputId": "fa2de839-fdc9-49fb-c5d6-e908c4e1fa5d"
      },
      "outputs": [
        {
          "name": "stdout",
          "output_type": "stream",
          "text": [
            "torch.rand output: \n",
            "tensor([[0.2756, 0.3182, 0.2891, 0.9880],\n",
            "        [0.6993, 0.4528, 0.3160, 0.6983],\n",
            "        [0.2650, 0.9520, 0.2635, 0.6642]])\n",
            "\n",
            "torch.randn output: \n",
            "tensor([[-0.0441,  0.6452, -1.1507, -1.4895],\n",
            "        [ 1.0629, -0.6190,  0.1500, -0.8222],\n",
            "        [-0.8069,  0.5830,  0.1587,  0.9184]])\n",
            "\n",
            "torch.zeros output: \n",
            "tensor([[0., 0., 0., 0.],\n",
            "        [0., 0., 0., 0.],\n",
            "        [0., 0., 0., 0.]])\n",
            "\n",
            "torch.ones output: \n",
            "tensor([[1., 1., 1., 1.],\n",
            "        [1., 1., 1., 1.],\n",
            "        [1., 1., 1., 1.]])\n",
            "\n"
          ]
        }
      ],
      "source": [
        "# Other ways of initializing tensors\n",
        "random_tensor = torch.rand((3, 4)) # Sampled from a uniform distribution [0, 1)\n",
        "random_tensor_2 = torch.randn((3, 4)) # Sampled from a normal distribution with mean 0 and std 1\n",
        "zeros_tensor = torch.zeros((3, 4))\n",
        "ones_tensor = torch.ones((3, 4))\n",
        "print(f\"torch.rand output: \\n{random_tensor}\\n\")\n",
        "print(f\"torch.randn output: \\n{random_tensor_2}\\n\")\n",
        "print(f\"torch.zeros output: \\n{zeros_tensor}\\n\")\n",
        "print(f\"torch.ones output: \\n{ones_tensor}\\n\")"
      ]
    },
    {
      "cell_type": "code",
      "execution_count": null,
      "metadata": {
        "colab": {
          "base_uri": "https://localhost:8080/"
        },
        "id": "sp1j1SAumgHY",
        "outputId": "27d0c1ee-f0cc-4bdd-dd9f-7d22f1418d62"
      },
      "outputs": [
        {
          "name": "stdout",
          "output_type": "stream",
          "text": [
            "tensor([0., 3., 6., 9.])\n"
          ]
        }
      ],
      "source": [
        "# Using torch.arange\n",
        "step = 3\n",
        "range_tensor = torch.arange(0.0, 10.0, step)\n",
        "'''tensor defining with step size -> 0,step+size,prev+sizxe....'''\n",
        "print(range_tensor)"
      ]
    },
    {
      "cell_type": "markdown",
      "metadata": {
        "id": "rSh1KLX-l6KR"
      },
      "source": [
        "What if I want to create a tensor of the same size as a previously defined tensor?"
      ]
    },
    {
      "cell_type": "code",
      "execution_count": null,
      "metadata": {
        "colab": {
          "base_uri": "https://localhost:8080/"
        },
        "id": "mGE4AC29k4hW",
        "outputId": "a4d784ed-730b-4082-dc95-47b48b65a3fc"
      },
      "outputs": [
        {
          "name": "stdout",
          "output_type": "stream",
          "text": [
            "tensor([0., 0., 0., 0.])\n",
            "tensor([1., 1., 1., 1.])\n"
          ]
        }
      ],
      "source": [
        "print(torch.zeros_like(range_tensor))\n",
        "print(torch.ones_like(range_tensor))"
      ]
    },
    {
      "cell_type": "markdown",
      "metadata": {
        "id": "ZckHN3dznLZ9"
      },
      "source": [
        "[Tensor Datatypes](https://pytorch.org/docs/stable/tensors.html#data-types)"
      ]
    },
    {
      "cell_type": "code",
      "execution_count": null,
      "metadata": {
        "colab": {
          "base_uri": "https://localhost:8080/"
        },
        "id": "eeApVUYvm7Mc",
        "outputId": "446cf4b6-46dc-49ab-d605-e3a670302369"
      },
      "outputs": [
        {
          "name": "stdout",
          "output_type": "stream",
          "text": [
            "torch.float32\n",
            "torch.float32\n"
          ]
        }
      ],
      "source": [
        "print(range_tensor.dtype)\n",
        "print(random_tensor.dtype)"
      ]
    },
    {
      "cell_type": "code",
      "execution_count": null,
      "metadata": {
        "colab": {
          "base_uri": "https://localhost:8080/"
        },
        "id": "7Jsza-j5naqO",
        "outputId": "210e3994-ea07-46b5-8e17-5819ecb76c53"
      },
      "outputs": [
        {
          "name": "stdout",
          "output_type": "stream",
          "text": [
            "torch.float16\n"
          ]
        }
      ],
      "source": [
        "random_tensor_3 = random_tensor.type(torch.float16) # Try random_tensor.half()\n",
        "print(random_tensor_3.dtype)"
      ]
    },
    {
      "cell_type": "markdown",
      "metadata": {
        "id": "99oYbjjCoVjg"
      },
      "source": [
        "Moving tensors to the GPU"
      ]
    },
    {
      "cell_type": "code",
      "execution_count": null,
      "metadata": {
        "colab": {
          "base_uri": "https://localhost:8080/"
        },
        "id": "6Jnpjk2ZoDEk",
        "outputId": "927acb10-fca8-49f9-8e62-ea540f1bc361"
      },
      "outputs": [
        {
          "name": "stdout",
          "output_type": "stream",
          "text": [
            "cuda\n"
          ]
        }
      ],
      "source": [
        "device = 'cuda' if torch.cuda.is_available() else 'cpu'\n",
        "print(device)"
      ]
    },
    {
      "cell_type": "code",
      "execution_count": null,
      "metadata": {
        "colab": {
          "base_uri": "https://localhost:8080/"
        },
        "id": "yGnOz5yUobxr",
        "outputId": "1ead21f9-bb18-4dee-d5dc-5846603a1b10"
      },
      "outputs": [
        {
          "name": "stdout",
          "output_type": "stream",
          "text": [
            "Before moving to GPU: cpu\n",
            "After moving to GPU: cuda:0\n"
          ]
        }
      ],
      "source": [
        "print(f\"Before moving to GPU: {random_tensor_3.device}\")\n",
        "random_tensor_3 = random_tensor_3.to(device) # Also try random_tensor_3.cuda()\n",
        "print(f\"After moving to GPU: {random_tensor_3.device}\")"
      ]
    },
    {
      "cell_type": "code",
      "execution_count": null,
      "metadata": {
        "colab": {
          "base_uri": "https://localhost:8080/"
        },
        "id": "Qn0s2QUVoiZD",
        "outputId": "195957a4-a494-43ca-a5fc-47b0d8e8347a"
      },
      "outputs": [
        {
          "data": {
            "text/plain": [
              "tensor([[0.2756, 0.3181, 0.2891, 0.9878],\n",
              "        [0.6992, 0.4529, 0.3159, 0.6982],\n",
              "        [0.2651, 0.9521, 0.2634, 0.6641]], device='cuda:0',\n",
              "       dtype=torch.float16)"
            ]
          },
          "execution_count": 17,
          "metadata": {},
          "output_type": "execute_result"
        }
      ],
      "source": [
        "random_tensor_3.cuda() # Note that this is not in place"
      ]
    },
    {
      "cell_type": "markdown",
      "metadata": {
        "id": "8yu1u2qUpJ9H"
      },
      "source": [
        "The three most common errors you'll face when it comes to dealing with tensors will be with - shape, device, and dtype"
      ]
    },
    {
      "cell_type": "code",
      "execution_count": null,
      "metadata": {
        "colab": {
          "base_uri": "https://localhost:8080/"
        },
        "id": "ouraD2WBo1yS",
        "outputId": "8bf41fdc-d3a1-4357-c457-869fb52da3ab"
      },
      "outputs": [
        {
          "name": "stdout",
          "output_type": "stream",
          "text": [
            "Original tensor: \n",
            "tensor([[0.2756, 0.3181, 0.2891, 0.9878],\n",
            "        [0.6992, 0.4529, 0.3159, 0.6982],\n",
            "        [0.2651, 0.9521, 0.2634, 0.6641]], device='cuda:0',\n",
            "       dtype=torch.float16)\n",
            "Shape: torch.Size([3, 4])\n",
            "Device: cuda:0\n",
            "Datatype: torch.float16\n"
          ]
        }
      ],
      "source": [
        "print(f\"Original tensor: \\n{random_tensor_3}\")\n",
        "print(f\"Shape: {random_tensor_3.shape}\")\n",
        "print(f\"Device: {random_tensor_3.device}\")\n",
        "print(f\"Datatype: {random_tensor_3.dtype}\")"
      ]
    },
    {
      "cell_type": "markdown",
      "metadata": {
        "id": "zxi7MvV6poxa"
      },
      "source": [
        "#### Tensor Operations\n",
        "\n",
        "Let's explore some basic tensor operations such as addition, multiplication, reshaping, slicing, and broadcasting."
      ]
    },
    {
      "cell_type": "code",
      "execution_count": null,
      "metadata": {
        "colab": {
          "base_uri": "https://localhost:8080/"
        },
        "id": "ngDiRkdWpf7j",
        "outputId": "6421dd84-88f0-4560-be13-273030b6834c"
      },
      "outputs": [
        {
          "name": "stdout",
          "output_type": "stream",
          "text": [
            "tensor([[1, 2],\n",
            "        [3, 4]]) has 2 dimension and shape torch.Size([2, 2])\n"
          ]
        }
      ],
      "source": [
        "# Create two tensors\n",
        "a = torch.tensor([[1, 2], [3, 4]])\n",
        "print(f\"{a} has {a.ndim} dimension and shape {a.shape}\")\n",
        "b = torch.tensor([[5, 6], [7, 8]])"
      ]
    },
    {
      "cell_type": "code",
      "execution_count": null,
      "metadata": {
        "colab": {
          "base_uri": "https://localhost:8080/"
        },
        "id": "qw1oAgs0tf_K",
        "outputId": "23c8cca9-1558-438f-df5d-a4efa9444c56"
      },
      "outputs": [
        {
          "name": "stdout",
          "output_type": "stream",
          "text": [
            "Addition:\n",
            " tensor([[ 6,  8],\n",
            "        [10, 12]])\n",
            "\n",
            "Element-wise Multiplication:\n",
            " tensor([[ 5, 12],\n",
            "        [21, 32]])\n",
            "\n",
            "Matrix Multiplication:\n",
            " tensor([[19, 22],\n",
            "        [43, 50]])\n"
          ]
        }
      ],
      "source": [
        "# Basic operations\n",
        "print(\"Addition:\\n\", a + b)\n",
        "print(\"\\nElement-wise Multiplication:\\n\", a * b)\n",
        "print(\"\\nMatrix Multiplication:\\n\", torch.matmul(a, b))"
      ]
    },
    {
      "cell_type": "code",
      "execution_count": null,
      "metadata": {
        "colab": {
          "base_uri": "https://localhost:8080/"
        },
        "id": "fChYLtXttheS",
        "outputId": "138caa8f-5e63-48c9-cef6-ca5cc0b890c8"
      },
      "outputs": [
        {
          "data": {
            "text/plain": [
              "tensor([[19, 22],\n",
              "        [43, 50]])"
            ]
          },
          "execution_count": 21,
          "metadata": {},
          "output_type": "execute_result"
        }
      ],
      "source": [
        "# Shorthand for matmul\n",
        "a @ b"
      ]
    },
    {
      "cell_type": "code",
      "execution_count": null,
      "metadata": {
        "colab": {
          "base_uri": "https://localhost:8080/"
        },
        "id": "BE4S4sbGtowX",
        "outputId": "0f90c418-1219-473c-a7b6-89b225e3c020"
      },
      "outputs": [
        {
          "name": "stdout",
          "output_type": "stream",
          "text": [
            "Reshaped tensor:\n",
            " tensor([[1],\n",
            "        [2],\n",
            "        [3],\n",
            "        [4]])\n"
          ]
        }
      ],
      "source": [
        "# Reshaping\n",
        "print(\"Reshaped tensor:\\n\", a.reshape(4, 1))"
      ]
    },
    {
      "cell_type": "code",
      "execution_count": null,
      "metadata": {
        "colab": {
          "base_uri": "https://localhost:8080/"
        },
        "id": "ge9eZxrPttZu",
        "outputId": "a68089f1-262b-40be-c294-ba0cf720339a"
      },
      "outputs": [
        {
          "name": "stdout",
          "output_type": "stream",
          "text": [
            "Sliced tensor:\n",
            " tensor([1, 3])\n"
          ]
        }
      ],
      "source": [
        "# Slicing\n",
        "print(\"Sliced tensor:\\n\", a[:, 0]) # frist element of each inner matrix"
      ]
    },
    {
      "cell_type": "code",
      "execution_count": null,
      "metadata": {
        "colab": {
          "base_uri": "https://localhost:8080/"
        },
        "id": "eTXcmXtDtusw",
        "outputId": "4402f874-2dc6-4b64-baad-666f6a5a2035"
      },
      "outputs": [
        {
          "name": "stdout",
          "output_type": "stream",
          "text": [
            "Broadcasted Addition:\n",
            " tensor([[2, 4],\n",
            "        [4, 6]])\n"
          ]
        }
      ],
      "source": [
        "# Broadcasting\n",
        "c = torch.tensor([1, 2])\n",
        "print(\"Broadcasted Addition:\\n\", a + c)\n",
        "#c is added to both matices inside a - c is broadcasted to a\n",
        "#in case to add bias to be added all elements"
      ]
    },
    {
      "cell_type": "markdown",
      "metadata": {
        "id": "Bj7IzdycZkG-"
      },
      "source": [
        "See the [torch.Tensor documentation](https://pytorch.org/docs/stable/tensors.html) for a complete list of everything you can do with tensors"
      ]
    },
    {
      "cell_type": "markdown",
      "metadata": {
        "id": "QoyuUEEgt1Dd"
      },
      "source": [
        "### Autograd in PyTorch\n",
        "\n",
        "PyTorch provides automatic differentiation using the `autograd` package. We'll explore how to use `requires_grad` to compute gradients and perform a simple linear regression task."
      ]
    },
    {
      "cell_type": "markdown",
      "metadata": {
        "id": "H8kzovVlt89o"
      },
      "source": [
        "### Using `requires_grad`\n",
        "\n",
        "Gradients are essential for optimization. You can enable gradient computation by setting `requires_grad=True` for a tensor."
      ]
    },
    {
      "cell_type": "code",
      "execution_count": null,
      "metadata": {
        "colab": {
          "base_uri": "https://localhost:8080/"
        },
        "id": "PiybKV7EtwSF",
        "outputId": "d78511e7-72f7-4591-ae0f-a81bb2e7eba1"
      },
      "outputs": [
        {
          "name": "stdout",
          "output_type": "stream",
          "text": [
            "Value of z: 5.0\n",
            "Gradient of z w.r.t x: 22.0\n",
            "Gradient of z w.r.t y: 11.0\n"
          ]
        }
      ],
      "source": [
        "# Example of autograd\n",
        "x = torch.tensor(2.0, requires_grad=True)\n",
        "y = torch.tensor(5.0, requires_grad=True)\n",
        "z = x ** 2 + 3 * x + 5 * y + 3 * x * y\n",
        "z.backward()  # Compute gradients\n",
        "\n",
        "print(f\"Value of z: {y.item()}\")\n",
        "print(f\"Gradient of z w.r.t x: {x.grad.item()}\")\n",
        "print(f\"Gradient of z w.r.t y: {y.grad.item()}\")"
      ]
    },
    {
      "cell_type": "markdown",
      "metadata": {
        "id": "7kZScRCruIur"
      },
      "source": [
        "$ \\frac{\\partial z}{\\partial x} = 2x + 3 + 3y = 2*2 + 3 + 15 = 22$\n",
        "\n",
        "$ \\frac{\\partial z}{\\partial y} = 5 + 3x = 5 + 6 = 11$\n",
        "\n"
      ]
    },
    {
      "cell_type": "code",
      "execution_count": null,
      "metadata": {
        "id": "3sLm6EVBe13x"
      },
      "outputs": [],
      "source": [
        "!pip install torchviz -q"
      ]
    },
    {
      "cell_type": "code",
      "execution_count": null,
      "metadata": {
        "colab": {
          "base_uri": "https://localhost:8080/",
          "height": 543
        },
        "id": "mfeQdZRqe5uq",
        "outputId": "f63a1c10-d749-4056-8539-d56c28fb8703"
      },
      "outputs": [
        {
          "data": {
            "image/svg+xml": "<?xml version=\"1.0\" encoding=\"UTF-8\" standalone=\"no\"?>\n<!DOCTYPE svg PUBLIC \"-//W3C//DTD SVG 1.1//EN\"\n \"http://www.w3.org/Graphics/SVG/1.1/DTD/svg11.dtd\">\n<!-- Generated by graphviz version 2.43.0 (0)\n -->\n<!-- Title: %3 Pages: 1 -->\n<svg width=\"430pt\" height=\"391pt\"\n viewBox=\"0.00 0.00 430.00 391.00\" xmlns=\"http://www.w3.org/2000/svg\" xmlns:xlink=\"http://www.w3.org/1999/xlink\">\n<g id=\"graph0\" class=\"graph\" transform=\"scale(1 1) rotate(0) translate(4 387)\">\n<title>%3</title>\n<polygon fill=\"white\" stroke=\"transparent\" points=\"-4,4 -4,-387 426,-387 426,4 -4,4\"/>\n<!-- 137682176654080 -->\n<g id=\"node1\" class=\"node\">\n<title>137682176654080</title>\n<polygon fill=\"#caff70\" stroke=\"black\" points=\"324.5,-31 270.5,-31 270.5,0 324.5,0 324.5,-31\"/>\n<text text-anchor=\"middle\" x=\"297.5\" y=\"-7\" font-family=\"monospace\" font-size=\"10.00\"> ()</text>\n</g>\n<!-- 137682176970944 -->\n<g id=\"node2\" class=\"node\">\n<title>137682176970944</title>\n<polygon fill=\"lightgrey\" stroke=\"black\" points=\"342,-86 253,-86 253,-67 342,-67 342,-86\"/>\n<text text-anchor=\"middle\" x=\"297.5\" y=\"-74\" font-family=\"monospace\" font-size=\"10.00\">AddBackward0</text>\n</g>\n<!-- 137682176970944&#45;&gt;137682176654080 -->\n<g id=\"edge15\" class=\"edge\">\n<title>137682176970944&#45;&gt;137682176654080</title>\n<path fill=\"none\" stroke=\"black\" d=\"M297.5,-66.79C297.5,-60.07 297.5,-50.4 297.5,-41.34\"/>\n<polygon fill=\"black\" stroke=\"black\" points=\"301,-41.19 297.5,-31.19 294,-41.19 301,-41.19\"/>\n</g>\n<!-- 137682176976464 -->\n<g id=\"node3\" class=\"node\">\n<title>137682176976464</title>\n<polygon fill=\"lightgrey\" stroke=\"black\" points=\"379,-141 290,-141 290,-122 379,-122 379,-141\"/>\n<text text-anchor=\"middle\" x=\"334.5\" y=\"-129\" font-family=\"monospace\" font-size=\"10.00\">AddBackward0</text>\n</g>\n<!-- 137682176976464&#45;&gt;137682176970944 -->\n<g id=\"edge1\" class=\"edge\">\n<title>137682176976464&#45;&gt;137682176970944</title>\n<path fill=\"none\" stroke=\"black\" d=\"M328.39,-121.75C323.22,-114.34 315.65,-103.5 309.31,-94.41\"/>\n<polygon fill=\"black\" stroke=\"black\" points=\"312.09,-92.29 303.5,-86.09 306.35,-96.29 312.09,-92.29\"/>\n</g>\n<!-- 137682176970896 -->\n<g id=\"node4\" class=\"node\">\n<title>137682176970896</title>\n<polygon fill=\"lightgrey\" stroke=\"black\" points=\"196,-196 107,-196 107,-177 196,-177 196,-196\"/>\n<text text-anchor=\"middle\" x=\"151.5\" y=\"-184\" font-family=\"monospace\" font-size=\"10.00\">AddBackward0</text>\n</g>\n<!-- 137682176970896&#45;&gt;137682176976464 -->\n<g id=\"edge2\" class=\"edge\">\n<title>137682176970896&#45;&gt;137682176976464</title>\n<path fill=\"none\" stroke=\"black\" d=\"M180.9,-176.98C211.89,-168.01 260.88,-153.82 295.17,-143.89\"/>\n<polygon fill=\"black\" stroke=\"black\" points=\"296.24,-147.23 304.87,-141.08 294.29,-140.5 296.24,-147.23\"/>\n</g>\n<!-- 137682176976608 -->\n<g id=\"node5\" class=\"node\">\n<title>137682176976608</title>\n<polygon fill=\"lightgrey\" stroke=\"black\" points=\"196,-251 107,-251 107,-232 196,-232 196,-251\"/>\n<text text-anchor=\"middle\" x=\"151.5\" y=\"-239\" font-family=\"monospace\" font-size=\"10.00\">PowBackward0</text>\n</g>\n<!-- 137682176976608&#45;&gt;137682176970896 -->\n<g id=\"edge3\" class=\"edge\">\n<title>137682176976608&#45;&gt;137682176970896</title>\n<path fill=\"none\" stroke=\"black\" d=\"M151.5,-231.75C151.5,-224.8 151.5,-214.85 151.5,-206.13\"/>\n<polygon fill=\"black\" stroke=\"black\" points=\"155,-206.09 151.5,-196.09 148,-206.09 155,-206.09\"/>\n</g>\n<!-- 137682176977040 -->\n<g id=\"node6\" class=\"node\">\n<title>137682176977040</title>\n<polygon fill=\"lightgrey\" stroke=\"black\" points=\"202,-311.5 101,-311.5 101,-292.5 202,-292.5 202,-311.5\"/>\n<text text-anchor=\"middle\" x=\"151.5\" y=\"-299.5\" font-family=\"monospace\" font-size=\"10.00\">AccumulateGrad</text>\n</g>\n<!-- 137682176977040&#45;&gt;137682176976608 -->\n<g id=\"edge4\" class=\"edge\">\n<title>137682176977040&#45;&gt;137682176976608</title>\n<path fill=\"none\" stroke=\"black\" d=\"M151.5,-292.37C151.5,-284.25 151.5,-271.81 151.5,-261.39\"/>\n<polygon fill=\"black\" stroke=\"black\" points=\"155,-261.17 151.5,-251.17 148,-261.17 155,-261.17\"/>\n</g>\n<!-- 137682176976560 -->\n<g id=\"node8\" class=\"node\">\n<title>137682176976560</title>\n<polygon fill=\"lightgrey\" stroke=\"black\" points=\"89,-251 0,-251 0,-232 89,-232 89,-251\"/>\n<text text-anchor=\"middle\" x=\"44.5\" y=\"-239\" font-family=\"monospace\" font-size=\"10.00\">MulBackward0</text>\n</g>\n<!-- 137682176977040&#45;&gt;137682176976560 -->\n<g id=\"edge7\" class=\"edge\">\n<title>137682176977040&#45;&gt;137682176976560</title>\n<path fill=\"none\" stroke=\"black\" d=\"M135.71,-292.37C118.17,-282.78 89.62,-267.17 69.13,-255.97\"/>\n<polygon fill=\"black\" stroke=\"black\" points=\"70.81,-252.89 60.35,-251.17 67.45,-259.04 70.81,-252.89\"/>\n</g>\n<!-- 137682176976656 -->\n<g id=\"node13\" class=\"node\">\n<title>137682176976656</title>\n<polygon fill=\"lightgrey\" stroke=\"black\" points=\"303,-251 214,-251 214,-232 303,-232 303,-251\"/>\n<text text-anchor=\"middle\" x=\"258.5\" y=\"-239\" font-family=\"monospace\" font-size=\"10.00\">MulBackward0</text>\n</g>\n<!-- 137682176977040&#45;&gt;137682176976656 -->\n<g id=\"edge13\" class=\"edge\">\n<title>137682176977040&#45;&gt;137682176976656</title>\n<path fill=\"none\" stroke=\"black\" d=\"M167.29,-292.37C184.83,-282.78 213.38,-267.17 233.87,-255.97\"/>\n<polygon fill=\"black\" stroke=\"black\" points=\"235.55,-259.04 242.65,-251.17 232.19,-252.89 235.55,-259.04\"/>\n</g>\n<!-- 137685502226288 -->\n<g id=\"node7\" class=\"node\">\n<title>137685502226288</title>\n<polygon fill=\"lightblue\" stroke=\"black\" points=\"178.5,-383 124.5,-383 124.5,-353 178.5,-353 178.5,-383\"/>\n<text text-anchor=\"middle\" x=\"151.5\" y=\"-371\" font-family=\"monospace\" font-size=\"10.00\">x</text>\n<text text-anchor=\"middle\" x=\"151.5\" y=\"-360\" font-family=\"monospace\" font-size=\"10.00\"> ()</text>\n</g>\n<!-- 137685502226288&#45;&gt;137682176977040 -->\n<g id=\"edge5\" class=\"edge\">\n<title>137685502226288&#45;&gt;137682176977040</title>\n<path fill=\"none\" stroke=\"black\" d=\"M151.5,-352.8C151.5,-343.7 151.5,-331.79 151.5,-321.9\"/>\n<polygon fill=\"black\" stroke=\"black\" points=\"155,-321.84 151.5,-311.84 148,-321.84 155,-321.84\"/>\n</g>\n<!-- 137682176976560&#45;&gt;137682176970896 -->\n<g id=\"edge6\" class=\"edge\">\n<title>137682176976560&#45;&gt;137682176970896</title>\n<path fill=\"none\" stroke=\"black\" d=\"M61.69,-231.98C78.75,-223.54 105.13,-210.47 124.9,-200.68\"/>\n<polygon fill=\"black\" stroke=\"black\" points=\"126.59,-203.75 134,-196.17 123.48,-197.47 126.59,-203.75\"/>\n</g>\n<!-- 137682176976320 -->\n<g id=\"node9\" class=\"node\">\n<title>137682176976320</title>\n<polygon fill=\"lightgrey\" stroke=\"black\" points=\"414,-196 325,-196 325,-177 414,-177 414,-196\"/>\n<text text-anchor=\"middle\" x=\"369.5\" y=\"-184\" font-family=\"monospace\" font-size=\"10.00\">MulBackward0</text>\n</g>\n<!-- 137682176976320&#45;&gt;137682176976464 -->\n<g id=\"edge8\" class=\"edge\">\n<title>137682176976320&#45;&gt;137682176976464</title>\n<path fill=\"none\" stroke=\"black\" d=\"M363.72,-176.75C358.88,-169.42 351.82,-158.73 345.86,-149.7\"/>\n<polygon fill=\"black\" stroke=\"black\" points=\"348.6,-147.5 340.17,-141.09 342.76,-151.36 348.6,-147.5\"/>\n</g>\n<!-- 137682176977136 -->\n<g id=\"node10\" class=\"node\">\n<title>137682176977136</title>\n<polygon fill=\"lightgrey\" stroke=\"black\" points=\"422,-251 321,-251 321,-232 422,-232 422,-251\"/>\n<text text-anchor=\"middle\" x=\"371.5\" y=\"-239\" font-family=\"monospace\" font-size=\"10.00\">AccumulateGrad</text>\n</g>\n<!-- 137682176977136&#45;&gt;137682176976320 -->\n<g id=\"edge9\" class=\"edge\">\n<title>137682176977136&#45;&gt;137682176976320</title>\n<path fill=\"none\" stroke=\"black\" d=\"M371.17,-231.75C370.91,-224.8 370.53,-214.85 370.2,-206.13\"/>\n<polygon fill=\"black\" stroke=\"black\" points=\"373.7,-205.95 369.82,-196.09 366.7,-206.21 373.7,-205.95\"/>\n</g>\n<!-- 137682176976368 -->\n<g id=\"node12\" class=\"node\">\n<title>137682176976368</title>\n<polygon fill=\"lightgrey\" stroke=\"black\" points=\"306,-196 217,-196 217,-177 306,-177 306,-196\"/>\n<text text-anchor=\"middle\" x=\"261.5\" y=\"-184\" font-family=\"monospace\" font-size=\"10.00\">MulBackward0</text>\n</g>\n<!-- 137682176977136&#45;&gt;137682176976368 -->\n<g id=\"edge14\" class=\"edge\">\n<title>137682176977136&#45;&gt;137682176976368</title>\n<path fill=\"none\" stroke=\"black\" d=\"M353.83,-231.98C336.21,-223.5 308.92,-210.35 288.57,-200.54\"/>\n<polygon fill=\"black\" stroke=\"black\" points=\"290.02,-197.36 279.49,-196.17 286.98,-203.66 290.02,-197.36\"/>\n</g>\n<!-- 137682176653760 -->\n<g id=\"node11\" class=\"node\">\n<title>137682176653760</title>\n<polygon fill=\"lightblue\" stroke=\"black\" points=\"398.5,-317 344.5,-317 344.5,-287 398.5,-287 398.5,-317\"/>\n<text text-anchor=\"middle\" x=\"371.5\" y=\"-305\" font-family=\"monospace\" font-size=\"10.00\">y</text>\n<text text-anchor=\"middle\" x=\"371.5\" y=\"-294\" font-family=\"monospace\" font-size=\"10.00\"> ()</text>\n</g>\n<!-- 137682176653760&#45;&gt;137682176977136 -->\n<g id=\"edge10\" class=\"edge\">\n<title>137682176653760&#45;&gt;137682176977136</title>\n<path fill=\"none\" stroke=\"black\" d=\"M371.5,-286.84C371.5,-279.21 371.5,-269.7 371.5,-261.45\"/>\n<polygon fill=\"black\" stroke=\"black\" points=\"375,-261.27 371.5,-251.27 368,-261.27 375,-261.27\"/>\n</g>\n<!-- 137682176976368&#45;&gt;137682176970944 -->\n<g id=\"edge11\" class=\"edge\">\n<title>137682176976368&#45;&gt;137682176970944</title>\n<path fill=\"none\" stroke=\"black\" d=\"M264.11,-176.84C267.83,-164.58 274.93,-141.5 281.5,-122 284.42,-113.35 287.82,-103.81 290.74,-95.79\"/>\n<polygon fill=\"black\" stroke=\"black\" points=\"294.05,-96.92 294.21,-86.33 287.48,-94.51 294.05,-96.92\"/>\n</g>\n<!-- 137682176976656&#45;&gt;137682176976368 -->\n<g id=\"edge12\" class=\"edge\">\n<title>137682176976656&#45;&gt;137682176976368</title>\n<path fill=\"none\" stroke=\"black\" d=\"M259,-231.75C259.39,-224.8 259.95,-214.85 260.45,-206.13\"/>\n<polygon fill=\"black\" stroke=\"black\" points=\"263.94,-206.27 261.01,-196.09 256.95,-205.88 263.94,-206.27\"/>\n</g>\n</g>\n</svg>\n",
            "text/plain": [
              "<graphviz.graphs.Digraph at 0x7d38a14010f0>"
            ]
          },
          "execution_count": 7,
          "metadata": {},
          "output_type": "execute_result"
        }
      ],
      "source": [
        "from torchviz import make_dot\n",
        "make_dot(z, params = {\"x\": x, \"y\": y})"
      ]
    },
    {
      "cell_type": "markdown",
      "metadata": {
        "id": "_YUb1rPYuzIM"
      },
      "source": [
        "### Linear Regression Example\n",
        "\n",
        "We'll perform a simple linear regression task using autograd. We'll use a small housing dataset to predict prices."
      ]
    },
    {
      "cell_type": "markdown",
      "metadata": {
        "id": "WeWFKOpDarYi"
      },
      "source": [
        "![image.png](data:image/png;base64,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)"
      ]
    },
    {
      "cell_type": "code",
      "execution_count": null,
      "metadata": {
        "id": "9PCU-u5juFWI"
      },
      "outputs": [],
      "source": [
        "import pandas as pd\n",
        "train_data = pd.read_csv('/content/sample_data/california_housing_train.csv')\n",
        "test_data = pd.read_csv('/content/sample_data/california_housing_test.csv')\n",
        "# What is a train/test split?\n",
        "\n",
        "#import numpy as np\n",
        "\n",
        "#train_data = np.genfromtxt('/content/sample_data/california_housing_train.csv', delimiter=',', skip_header=1)\n",
        "#test_data = np.genfromtxt('/content/sample_data/california_housing_test.csv', delimiter=',', skip_header=1)\n",
        "\n"
      ]
    },
    {
      "cell_type": "code",
      "execution_count": null,
      "metadata": {
        "colab": {
          "base_uri": "https://localhost:8080/",
          "height": 687
        },
        "id": "kvWrmMmOvJLb",
        "outputId": "4b5781aa-fe94-4f50-efe4-158763708591"
      },
      "outputs": [
        {
          "data": {
            "application/vnd.google.colaboratory.intrinsic+json": {
              "summary": "{\n  \"name\": \"train_data\",\n  \"rows\": 17000,\n  \"fields\": [\n    {\n      \"column\": \"longitude\",\n      \"properties\": {\n        \"dtype\": \"number\",\n        \"std\": 2.005166408426173,\n        \"min\": -124.35,\n        \"max\": -114.31,\n        \"num_unique_values\": 827,\n        \"samples\": [\n          -117.56,\n          -123.32,\n          -118.26\n        ],\n        \"semantic_type\": \"\",\n        \"description\": \"\"\n      }\n    },\n    {\n      \"column\": \"latitude\",\n      \"properties\": {\n        \"dtype\": \"number\",\n        \"std\": 2.1373397946570734,\n        \"min\": 32.54,\n        \"max\": 41.95,\n        \"num_unique_values\": 840,\n        \"samples\": [\n          38.44,\n          40.79,\n          32.69\n        ],\n        \"semantic_type\": \"\",\n        \"description\": \"\"\n      }\n    },\n    {\n      \"column\": \"housing_median_age\",\n      \"properties\": {\n        \"dtype\": \"number\",\n        \"std\": 12.586936981660335,\n        \"min\": 1.0,\n        \"max\": 52.0,\n        \"num_unique_values\": 52,\n        \"samples\": [\n          23.0,\n          52.0,\n          47.0\n        ],\n        \"semantic_type\": \"\",\n        \"description\": \"\"\n      }\n    },\n    {\n      \"column\": \"total_rooms\",\n      \"properties\": {\n        \"dtype\": \"number\",\n        \"std\": 2179.947071452768,\n        \"min\": 2.0,\n        \"max\": 37937.0,\n        \"num_unique_values\": 5533,\n        \"samples\": [\n          3564.0,\n          6955.0,\n          5451.0\n        ],\n        \"semantic_type\": \"\",\n        \"description\": \"\"\n      }\n    },\n    {\n      \"column\": \"total_bedrooms\",\n      \"properties\": {\n        \"dtype\": \"number\",\n        \"std\": 421.49945157986514,\n        \"min\": 1.0,\n        \"max\": 6445.0,\n        \"num_unique_values\": 1848,\n        \"samples\": [\n          729.0,\n          719.0,\n          2075.0\n        ],\n        \"semantic_type\": \"\",\n        \"description\": \"\"\n      }\n    },\n    {\n      \"column\": \"population\",\n      \"properties\": {\n        \"dtype\": \"number\",\n        \"std\": 1147.852959159525,\n        \"min\": 3.0,\n        \"max\": 35682.0,\n        \"num_unique_values\": 3683,\n        \"samples\": [\n          249.0,\n          1735.0,\n          235.0\n        ],\n        \"semantic_type\": \"\",\n        \"description\": \"\"\n      }\n    },\n    {\n      \"column\": \"households\",\n      \"properties\": {\n        \"dtype\": \"number\",\n        \"std\": 384.52084085590013,\n        \"min\": 1.0,\n        \"max\": 6082.0,\n        \"num_unique_values\": 1740,\n        \"samples\": [\n          390.0,\n          1089.0,\n          1351.0\n        ],\n        \"semantic_type\": \"\",\n        \"description\": \"\"\n      }\n    },\n    {\n      \"column\": \"median_income\",\n      \"properties\": {\n        \"dtype\": \"number\",\n        \"std\": 1.908156518379093,\n        \"min\": 0.4999,\n        \"max\": 15.0001,\n        \"num_unique_values\": 11175,\n        \"samples\": [\n          7.2655,\n          5.6293,\n          4.2262\n        ],\n        \"semantic_type\": \"\",\n        \"description\": \"\"\n      }\n    },\n    {\n      \"column\": \"median_house_value\",\n      \"properties\": {\n        \"dtype\": \"number\",\n        \"std\": 115983.76438720913,\n        \"min\": 14999.0,\n        \"max\": 500001.0,\n        \"num_unique_values\": 3694,\n        \"samples\": [\n          162300.0,\n          346800.0,\n          116700.0\n        ],\n        \"semantic_type\": \"\",\n        \"description\": \"\"\n      }\n    }\n  ]\n}",
              "type": "dataframe",
              "variable_name": "train_data"
            },
            "text/html": [
              "\n",
              "  <div id=\"df-5b7259d5-da91-40fa-bc9b-dceb9aeafca5\" class=\"colab-df-container\">\n",
              "    <div>\n",
              "<style scoped>\n",
              "    .dataframe tbody tr th:only-of-type {\n",
              "        vertical-align: middle;\n",
              "    }\n",
              "\n",
              "    .dataframe tbody tr th {\n",
              "        vertical-align: top;\n",
              "    }\n",
              "\n",
              "    .dataframe thead th {\n",
              "        text-align: right;\n",
              "    }\n",
              "</style>\n",
              "<table border=\"1\" class=\"dataframe\">\n",
              "  <thead>\n",
              "    <tr style=\"text-align: right;\">\n",
              "      <th></th>\n",
              "      <th>longitude</th>\n",
              "      <th>latitude</th>\n",
              "      <th>housing_median_age</th>\n",
              "      <th>total_rooms</th>\n",
              "      <th>total_bedrooms</th>\n",
              "      <th>population</th>\n",
              "      <th>households</th>\n",
              "      <th>median_income</th>\n",
              "      <th>median_house_value</th>\n",
              "    </tr>\n",
              "  </thead>\n",
              "  <tbody>\n",
              "    <tr>\n",
              "      <th>0</th>\n",
              "      <td>-114.31</td>\n",
              "      <td>34.19</td>\n",
              "      <td>15.0</td>\n",
              "      <td>5612.0</td>\n",
              "      <td>1283.0</td>\n",
              "      <td>1015.0</td>\n",
              "      <td>472.0</td>\n",
              "      <td>1.4936</td>\n",
              "      <td>66900.0</td>\n",
              "    </tr>\n",
              "    <tr>\n",
              "      <th>1</th>\n",
              "      <td>-114.47</td>\n",
              "      <td>34.40</td>\n",
              "      <td>19.0</td>\n",
              "      <td>7650.0</td>\n",
              "      <td>1901.0</td>\n",
              "      <td>1129.0</td>\n",
              "      <td>463.0</td>\n",
              "      <td>1.8200</td>\n",
              "      <td>80100.0</td>\n",
              "    </tr>\n",
              "    <tr>\n",
              "      <th>2</th>\n",
              "      <td>-114.56</td>\n",
              "      <td>33.69</td>\n",
              "      <td>17.0</td>\n",
              "      <td>720.0</td>\n",
              "      <td>174.0</td>\n",
              "      <td>333.0</td>\n",
              "      <td>117.0</td>\n",
              "      <td>1.6509</td>\n",
              "      <td>85700.0</td>\n",
              "    </tr>\n",
              "    <tr>\n",
              "      <th>3</th>\n",
              "      <td>-114.57</td>\n",
              "      <td>33.64</td>\n",
              "      <td>14.0</td>\n",
              "      <td>1501.0</td>\n",
              "      <td>337.0</td>\n",
              "      <td>515.0</td>\n",
              "      <td>226.0</td>\n",
              "      <td>3.1917</td>\n",
              "      <td>73400.0</td>\n",
              "    </tr>\n",
              "    <tr>\n",
              "      <th>4</th>\n",
              "      <td>-114.57</td>\n",
              "      <td>33.57</td>\n",
              "      <td>20.0</td>\n",
              "      <td>1454.0</td>\n",
              "      <td>326.0</td>\n",
              "      <td>624.0</td>\n",
              "      <td>262.0</td>\n",
              "      <td>1.9250</td>\n",
              "      <td>65500.0</td>\n",
              "    </tr>\n",
              "    <tr>\n",
              "      <th>...</th>\n",
              "      <td>...</td>\n",
              "      <td>...</td>\n",
              "      <td>...</td>\n",
              "      <td>...</td>\n",
              "      <td>...</td>\n",
              "      <td>...</td>\n",
              "      <td>...</td>\n",
              "      <td>...</td>\n",
              "      <td>...</td>\n",
              "    </tr>\n",
              "    <tr>\n",
              "      <th>16995</th>\n",
              "      <td>-124.26</td>\n",
              "      <td>40.58</td>\n",
              "      <td>52.0</td>\n",
              "      <td>2217.0</td>\n",
              "      <td>394.0</td>\n",
              "      <td>907.0</td>\n",
              "      <td>369.0</td>\n",
              "      <td>2.3571</td>\n",
              "      <td>111400.0</td>\n",
              "    </tr>\n",
              "    <tr>\n",
              "      <th>16996</th>\n",
              "      <td>-124.27</td>\n",
              "      <td>40.69</td>\n",
              "      <td>36.0</td>\n",
              "      <td>2349.0</td>\n",
              "      <td>528.0</td>\n",
              "      <td>1194.0</td>\n",
              "      <td>465.0</td>\n",
              "      <td>2.5179</td>\n",
              "      <td>79000.0</td>\n",
              "    </tr>\n",
              "    <tr>\n",
              "      <th>16997</th>\n",
              "      <td>-124.30</td>\n",
              "      <td>41.84</td>\n",
              "      <td>17.0</td>\n",
              "      <td>2677.0</td>\n",
              "      <td>531.0</td>\n",
              "      <td>1244.0</td>\n",
              "      <td>456.0</td>\n",
              "      <td>3.0313</td>\n",
              "      <td>103600.0</td>\n",
              "    </tr>\n",
              "    <tr>\n",
              "      <th>16998</th>\n",
              "      <td>-124.30</td>\n",
              "      <td>41.80</td>\n",
              "      <td>19.0</td>\n",
              "      <td>2672.0</td>\n",
              "      <td>552.0</td>\n",
              "      <td>1298.0</td>\n",
              "      <td>478.0</td>\n",
              "      <td>1.9797</td>\n",
              "      <td>85800.0</td>\n",
              "    </tr>\n",
              "    <tr>\n",
              "      <th>16999</th>\n",
              "      <td>-124.35</td>\n",
              "      <td>40.54</td>\n",
              "      <td>52.0</td>\n",
              "      <td>1820.0</td>\n",
              "      <td>300.0</td>\n",
              "      <td>806.0</td>\n",
              "      <td>270.0</td>\n",
              "      <td>3.0147</td>\n",
              "      <td>94600.0</td>\n",
              "    </tr>\n",
              "  </tbody>\n",
              "</table>\n",
              "<p>17000 rows × 9 columns</p>\n",
              "</div>\n",
              "    <div class=\"colab-df-buttons\">\n",
              "\n",
              "  <div class=\"colab-df-container\">\n",
              "    <button class=\"colab-df-convert\" onclick=\"convertToInteractive('df-5b7259d5-da91-40fa-bc9b-dceb9aeafca5')\"\n",
              "            title=\"Convert this dataframe to an interactive table.\"\n",
              "            style=\"display:none;\">\n",
              "\n",
              "  <svg xmlns=\"http://www.w3.org/2000/svg\" height=\"24px\" viewBox=\"0 -960 960 960\">\n",
              "    <path d=\"M120-120v-720h720v720H120Zm60-500h600v-160H180v160Zm220 220h160v-160H400v160Zm0 220h160v-160H400v160ZM180-400h160v-160H180v160Zm440 0h160v-160H620v160ZM180-180h160v-160H180v160Zm440 0h160v-160H620v160Z\"/>\n",
              "  </svg>\n",
              "    </button>\n",
              "\n",
              "  <style>\n",
              "    .colab-df-container {\n",
              "      display:flex;\n",
              "      gap: 12px;\n",
              "    }\n",
              "\n",
              "    .colab-df-convert {\n",
              "      background-color: #E8F0FE;\n",
              "      border: none;\n",
              "      border-radius: 50%;\n",
              "      cursor: pointer;\n",
              "      display: none;\n",
              "      fill: #1967D2;\n",
              "      height: 32px;\n",
              "      padding: 0 0 0 0;\n",
              "      width: 32px;\n",
              "    }\n",
              "\n",
              "    .colab-df-convert:hover {\n",
              "      background-color: #E2EBFA;\n",
              "      box-shadow: 0px 1px 2px rgba(60, 64, 67, 0.3), 0px 1px 3px 1px rgba(60, 64, 67, 0.15);\n",
              "      fill: #174EA6;\n",
              "    }\n",
              "\n",
              "    .colab-df-buttons div {\n",
              "      margin-bottom: 4px;\n",
              "    }\n",
              "\n",
              "    [theme=dark] .colab-df-convert {\n",
              "      background-color: #3B4455;\n",
              "      fill: #D2E3FC;\n",
              "    }\n",
              "\n",
              "    [theme=dark] .colab-df-convert:hover {\n",
              "      background-color: #434B5C;\n",
              "      box-shadow: 0px 1px 3px 1px rgba(0, 0, 0, 0.15);\n",
              "      filter: drop-shadow(0px 1px 2px rgba(0, 0, 0, 0.3));\n",
              "      fill: #FFFFFF;\n",
              "    }\n",
              "  </style>\n",
              "\n",
              "    <script>\n",
              "      const buttonEl =\n",
              "        document.querySelector('#df-5b7259d5-da91-40fa-bc9b-dceb9aeafca5 button.colab-df-convert');\n",
              "      buttonEl.style.display =\n",
              "        google.colab.kernel.accessAllowed ? 'block' : 'none';\n",
              "\n",
              "      async function convertToInteractive(key) {\n",
              "        const element = document.querySelector('#df-5b7259d5-da91-40fa-bc9b-dceb9aeafca5');\n",
              "        const dataTable =\n",
              "          await google.colab.kernel.invokeFunction('convertToInteractive',\n",
              "                                                    [key], {});\n",
              "        if (!dataTable) return;\n",
              "\n",
              "        const docLinkHtml = 'Like what you see? Visit the ' +\n",
              "          '<a target=\"_blank\" href=https://colab.research.google.com/notebooks/data_table.ipynb>data table notebook</a>'\n",
              "          + ' to learn more about interactive tables.';\n",
              "        element.innerHTML = '';\n",
              "        dataTable['output_type'] = 'display_data';\n",
              "        await google.colab.output.renderOutput(dataTable, element);\n",
              "        const docLink = document.createElement('div');\n",
              "        docLink.innerHTML = docLinkHtml;\n",
              "        element.appendChild(docLink);\n",
              "      }\n",
              "    </script>\n",
              "  </div>\n",
              "\n",
              "\n",
              "<div id=\"df-2679c5cf-a830-4b9a-83cd-141c65804816\">\n",
              "  <button class=\"colab-df-quickchart\" onclick=\"quickchart('df-2679c5cf-a830-4b9a-83cd-141c65804816')\"\n",
              "            title=\"Suggest charts\"\n",
              "            style=\"display:none;\">\n",
              "\n",
              "<svg xmlns=\"http://www.w3.org/2000/svg\" height=\"24px\"viewBox=\"0 0 24 24\"\n",
              "     width=\"24px\">\n",
              "    <g>\n",
              "        <path d=\"M19 3H5c-1.1 0-2 .9-2 2v14c0 1.1.9 2 2 2h14c1.1 0 2-.9 2-2V5c0-1.1-.9-2-2-2zM9 17H7v-7h2v7zm4 0h-2V7h2v10zm4 0h-2v-4h2v4z\"/>\n",
              "    </g>\n",
              "</svg>\n",
              "  </button>\n",
              "\n",
              "<style>\n",
              "  .colab-df-quickchart {\n",
              "      --bg-color: #E8F0FE;\n",
              "      --fill-color: #1967D2;\n",
              "      --hover-bg-color: #E2EBFA;\n",
              "      --hover-fill-color: #174EA6;\n",
              "      --disabled-fill-color: #AAA;\n",
              "      --disabled-bg-color: #DDD;\n",
              "  }\n",
              "\n",
              "  [theme=dark] .colab-df-quickchart {\n",
              "      --bg-color: #3B4455;\n",
              "      --fill-color: #D2E3FC;\n",
              "      --hover-bg-color: #434B5C;\n",
              "      --hover-fill-color: #FFFFFF;\n",
              "      --disabled-bg-color: #3B4455;\n",
              "      --disabled-fill-color: #666;\n",
              "  }\n",
              "\n",
              "  .colab-df-quickchart {\n",
              "    background-color: var(--bg-color);\n",
              "    border: none;\n",
              "    border-radius: 50%;\n",
              "    cursor: pointer;\n",
              "    display: none;\n",
              "    fill: var(--fill-color);\n",
              "    height: 32px;\n",
              "    padding: 0;\n",
              "    width: 32px;\n",
              "  }\n",
              "\n",
              "  .colab-df-quickchart:hover {\n",
              "    background-color: var(--hover-bg-color);\n",
              "    box-shadow: 0 1px 2px rgba(60, 64, 67, 0.3), 0 1px 3px 1px rgba(60, 64, 67, 0.15);\n",
              "    fill: var(--button-hover-fill-color);\n",
              "  }\n",
              "\n",
              "  .colab-df-quickchart-complete:disabled,\n",
              "  .colab-df-quickchart-complete:disabled:hover {\n",
              "    background-color: var(--disabled-bg-color);\n",
              "    fill: var(--disabled-fill-color);\n",
              "    box-shadow: none;\n",
              "  }\n",
              "\n",
              "  .colab-df-spinner {\n",
              "    border: 2px solid var(--fill-color);\n",
              "    border-color: transparent;\n",
              "    border-bottom-color: var(--fill-color);\n",
              "    animation:\n",
              "      spin 1s steps(1) infinite;\n",
              "  }\n",
              "\n",
              "  @keyframes spin {\n",
              "    0% {\n",
              "      border-color: transparent;\n",
              "      border-bottom-color: var(--fill-color);\n",
              "      border-left-color: var(--fill-color);\n",
              "    }\n",
              "    20% {\n",
              "      border-color: transparent;\n",
              "      border-left-color: var(--fill-color);\n",
              "      border-top-color: var(--fill-color);\n",
              "    }\n",
              "    30% {\n",
              "      border-color: transparent;\n",
              "      border-left-color: var(--fill-color);\n",
              "      border-top-color: var(--fill-color);\n",
              "      border-right-color: var(--fill-color);\n",
              "    }\n",
              "    40% {\n",
              "      border-color: transparent;\n",
              "      border-right-color: var(--fill-color);\n",
              "      border-top-color: var(--fill-color);\n",
              "    }\n",
              "    60% {\n",
              "      border-color: transparent;\n",
              "      border-right-color: var(--fill-color);\n",
              "    }\n",
              "    80% {\n",
              "      border-color: transparent;\n",
              "      border-right-color: var(--fill-color);\n",
              "      border-bottom-color: var(--fill-color);\n",
              "    }\n",
              "    90% {\n",
              "      border-color: transparent;\n",
              "      border-bottom-color: var(--fill-color);\n",
              "    }\n",
              "  }\n",
              "</style>\n",
              "\n",
              "  <script>\n",
              "    async function quickchart(key) {\n",
              "      const quickchartButtonEl =\n",
              "        document.querySelector('#' + key + ' button');\n",
              "      quickchartButtonEl.disabled = true;  // To prevent multiple clicks.\n",
              "      quickchartButtonEl.classList.add('colab-df-spinner');\n",
              "      try {\n",
              "        const charts = await google.colab.kernel.invokeFunction(\n",
              "            'suggestCharts', [key], {});\n",
              "      } catch (error) {\n",
              "        console.error('Error during call to suggestCharts:', error);\n",
              "      }\n",
              "      quickchartButtonEl.classList.remove('colab-df-spinner');\n",
              "      quickchartButtonEl.classList.add('colab-df-quickchart-complete');\n",
              "    }\n",
              "    (() => {\n",
              "      let quickchartButtonEl =\n",
              "        document.querySelector('#df-2679c5cf-a830-4b9a-83cd-141c65804816 button');\n",
              "      quickchartButtonEl.style.display =\n",
              "        google.colab.kernel.accessAllowed ? 'block' : 'none';\n",
              "    })();\n",
              "  </script>\n",
              "</div>\n",
              "\n",
              "  <div id=\"id_61605c6a-3ae2-405e-a3dd-4f001525c6a3\">\n",
              "    <style>\n",
              "      .colab-df-generate {\n",
              "        background-color: #E8F0FE;\n",
              "        border: none;\n",
              "        border-radius: 50%;\n",
              "        cursor: pointer;\n",
              "        display: none;\n",
              "        fill: #1967D2;\n",
              "        height: 32px;\n",
              "        padding: 0 0 0 0;\n",
              "        width: 32px;\n",
              "      }\n",
              "\n",
              "      .colab-df-generate:hover {\n",
              "        background-color: #E2EBFA;\n",
              "        box-shadow: 0px 1px 2px rgba(60, 64, 67, 0.3), 0px 1px 3px 1px rgba(60, 64, 67, 0.15);\n",
              "        fill: #174EA6;\n",
              "      }\n",
              "\n",
              "      [theme=dark] .colab-df-generate {\n",
              "        background-color: #3B4455;\n",
              "        fill: #D2E3FC;\n",
              "      }\n",
              "\n",
              "      [theme=dark] .colab-df-generate:hover {\n",
              "        background-color: #434B5C;\n",
              "        box-shadow: 0px 1px 3px 1px rgba(0, 0, 0, 0.15);\n",
              "        filter: drop-shadow(0px 1px 2px rgba(0, 0, 0, 0.3));\n",
              "        fill: #FFFFFF;\n",
              "      }\n",
              "    </style>\n",
              "    <button class=\"colab-df-generate\" onclick=\"generateWithVariable('train_data')\"\n",
              "            title=\"Generate code using this dataframe.\"\n",
              "            style=\"display:none;\">\n",
              "\n",
              "  <svg xmlns=\"http://www.w3.org/2000/svg\" height=\"24px\"viewBox=\"0 0 24 24\"\n",
              "       width=\"24px\">\n",
              "    <path d=\"M7,19H8.4L18.45,9,17,7.55,7,17.6ZM5,21V16.75L18.45,3.32a2,2,0,0,1,2.83,0l1.4,1.43a1.91,1.91,0,0,1,.58,1.4,1.91,1.91,0,0,1-.58,1.4L9.25,21ZM18.45,9,17,7.55Zm-12,3A5.31,5.31,0,0,0,4.9,8.1,5.31,5.31,0,0,0,1,6.5,5.31,5.31,0,0,0,4.9,4.9,5.31,5.31,0,0,0,6.5,1,5.31,5.31,0,0,0,8.1,4.9,5.31,5.31,0,0,0,12,6.5,5.46,5.46,0,0,0,6.5,12Z\"/>\n",
              "  </svg>\n",
              "    </button>\n",
              "    <script>\n",
              "      (() => {\n",
              "      const buttonEl =\n",
              "        document.querySelector('#id_61605c6a-3ae2-405e-a3dd-4f001525c6a3 button.colab-df-generate');\n",
              "      buttonEl.style.display =\n",
              "        google.colab.kernel.accessAllowed ? 'block' : 'none';\n",
              "\n",
              "      buttonEl.onclick = () => {\n",
              "        google.colab.notebook.generateWithVariable('train_data');\n",
              "      }\n",
              "      })();\n",
              "    </script>\n",
              "  </div>\n",
              "\n",
              "    </div>\n",
              "  </div>\n"
            ],
            "text/plain": [
              "       longitude  latitude  housing_median_age  total_rooms  total_bedrooms  \\\n",
              "0        -114.31     34.19                15.0       5612.0          1283.0   \n",
              "1        -114.47     34.40                19.0       7650.0          1901.0   \n",
              "2        -114.56     33.69                17.0        720.0           174.0   \n",
              "3        -114.57     33.64                14.0       1501.0           337.0   \n",
              "4        -114.57     33.57                20.0       1454.0           326.0   \n",
              "...          ...       ...                 ...          ...             ...   \n",
              "16995    -124.26     40.58                52.0       2217.0           394.0   \n",
              "16996    -124.27     40.69                36.0       2349.0           528.0   \n",
              "16997    -124.30     41.84                17.0       2677.0           531.0   \n",
              "16998    -124.30     41.80                19.0       2672.0           552.0   \n",
              "16999    -124.35     40.54                52.0       1820.0           300.0   \n",
              "\n",
              "       population  households  median_income  median_house_value  \n",
              "0          1015.0       472.0         1.4936             66900.0  \n",
              "1          1129.0       463.0         1.8200             80100.0  \n",
              "2           333.0       117.0         1.6509             85700.0  \n",
              "3           515.0       226.0         3.1917             73400.0  \n",
              "4           624.0       262.0         1.9250             65500.0  \n",
              "...           ...         ...            ...                 ...  \n",
              "16995       907.0       369.0         2.3571            111400.0  \n",
              "16996      1194.0       465.0         2.5179             79000.0  \n",
              "16997      1244.0       456.0         3.0313            103600.0  \n",
              "16998      1298.0       478.0         1.9797             85800.0  \n",
              "16999       806.0       270.0         3.0147             94600.0  \n",
              "\n",
              "[17000 rows x 9 columns]"
            ]
          },
          "execution_count": 8,
          "metadata": {},
          "output_type": "execute_result"
        }
      ],
      "source": [
        "train_data"
      ]
    },
    {
      "cell_type": "code",
      "execution_count": null,
      "metadata": {
        "colab": {
          "base_uri": "https://localhost:8080/"
        },
        "id": "ltM-0MASvORM",
        "outputId": "c9869141-e002-4a3b-e78a-d2ff6efb5c11"
      },
      "outputs": [
        {
          "data": {
            "text/plain": [
              "(17000, 9)"
            ]
          },
          "execution_count": 4,
          "metadata": {},
          "output_type": "execute_result"
        }
      ],
      "source": [
        "train_data.shape # .shape can be used with pandas dataframes as well."
      ]
    },
    {
      "cell_type": "code",
      "execution_count": null,
      "metadata": {
        "colab": {
          "base_uri": "https://localhost:8080/"
        },
        "id": "3kBFUJ4LkqlA",
        "outputId": "ef96c4f1-07e7-49da-dda2-5ef2cbceb2e0"
      },
      "outputs": [
        {
          "data": {
            "text/plain": [
              "array([[-1.22050e+02,  3.73700e+01,  2.70000e+01, ...,  6.06000e+02,\n",
              "         6.60850e+00,  3.44700e+05],\n",
              "       [-1.18300e+02,  3.42600e+01,  4.30000e+01, ...,  2.77000e+02,\n",
              "         3.59900e+00,  1.76500e+05],\n",
              "       [-1.17810e+02,  3.37800e+01,  2.70000e+01, ...,  4.95000e+02,\n",
              "         5.79340e+00,  2.70500e+05],\n",
              "       ...,\n",
              "       [-1.19700e+02,  3.63000e+01,  1.00000e+01, ...,  2.20000e+02,\n",
              "         2.28950e+00,  6.20000e+04],\n",
              "       [-1.17120e+02,  3.41000e+01,  4.00000e+01, ...,  1.40000e+01,\n",
              "         3.27080e+00,  1.62500e+05],\n",
              "       [-1.19630e+02,  3.44200e+01,  4.20000e+01, ...,  2.60000e+02,\n",
              "         8.56080e+00,  5.00001e+05]])"
            ]
          },
          "execution_count": 5,
          "metadata": {},
          "output_type": "execute_result"
        }
      ],
      "source": [
        "test_data"
      ]
    },
    {
      "cell_type": "markdown",
      "metadata": {
        "id": "Q3GDngAKbi43"
      },
      "source": [
        "Now, let's code a simple model for linear regression using pytorch"
      ]
    },
    {
      "cell_type": "code",
      "execution_count": null,
      "metadata": {
        "colab": {
          "background_save": true
        },
        "id": "bYhjVUabbpEj"
      },
      "outputs": [],
      "source": [
        "import torch\n",
        "import torch.nn as nn # a library in torch\n",
        "\n",
        "class LinearRegressionModel(nn.Module):\n",
        "    def __init__(self, in_features):\n",
        "        super().__init__()\n",
        "        self.weights = nn.Parameter(torch.randn(in_features, dtype=torch.float), requires_grad=True)\n",
        "        self.bias = nn.Parameter(torch.randn(1, dtype=torch.float), requires_grad=True)\n",
        "\n",
        "    def forward(self, x):\n",
        "        return x @ self.weights + self.bias # y = m*x + b"
      ]
    },
    {
      "cell_type": "code",
      "execution_count": null,
      "metadata": {
        "id": "xJMi-4YMcNNq"
      },
      "outputs": [],
      "source": [
        "device = 'cuda' if torch.cuda.is_available() else 'cpu'\n",
        "model = LinearRegressionModel(in_features=8).to(device)"
      ]
    },
    {
      "cell_type": "code",
      "execution_count": null,
      "metadata": {
        "id": "Qj0W6Oyohvq-"
      },
      "outputs": [],
      "source": [
        "!pip install torchinfo -q"
      ]
    },
    {
      "cell_type": "code",
      "execution_count": null,
      "metadata": {
        "colab": {
          "base_uri": "https://localhost:8080/"
        },
        "id": "NLZpKTcthdxo",
        "outputId": "6acf1d1b-f01d-4fbd-a69b-615f5a36d658"
      },
      "outputs": [
        {
          "data": {
            "text/plain": [
              "==========================================================================================\n",
              "Layer (type:depth-idx)                   Output Shape              Param #\n",
              "==========================================================================================\n",
              "LinearRegressionModel                    [1]                       9\n",
              "==========================================================================================\n",
              "Total params: 9\n",
              "Trainable params: 9\n",
              "Non-trainable params: 0\n",
              "Total mult-adds (M): 0.00\n",
              "==========================================================================================\n",
              "Input size (MB): 0.00\n",
              "Forward/backward pass size (MB): 0.00\n",
              "Params size (MB): 0.00\n",
              "Estimated Total Size (MB): 0.00\n",
              "=========================================================================================="
            ]
          },
          "execution_count": 16,
          "metadata": {},
          "output_type": "execute_result"
        }
      ],
      "source": [
        "from torchinfo import summary\n",
        "summary(model, input_size=(8,))"
      ]
    },
    {
      "cell_type": "code",
      "execution_count": null,
      "metadata": {
        "id": "aMiwGdpvdhgd"
      },
      "outputs": [],
      "source": [
        "X_train = train_data.drop('median_house_value', axis = 1)\n",
        "y_train = train_data['median_house_value']\n",
        "X_train = torch.Tensor(X_train.values).to(device)\n",
        "y_train = torch.Tensor(y_train).to(device)\n",
        "\n",
        "X_test = test_data.drop('median_house_value', axis = 1)\n",
        "y_test = test_data['median_house_value']\n",
        "X_test = torch.Tensor(X_test.values).to(device)\n",
        "y_test = torch.Tensor(y_test).to(device)"
      ]
    },
    {
      "cell_type": "code",
      "execution_count": null,
      "metadata": {
        "colab": {
          "base_uri": "https://localhost:8080/"
        },
        "id": "CAV1PHyBiChw",
        "outputId": "2f875298-aa04-4555-c352-c9b1fb0c17ab"
      },
      "outputs": [
        {
          "name": "stdout",
          "output_type": "stream",
          "text": [
            "X shape: torch.Size([17000, 8])\n",
            "y shape: torch.Size([17000])\n"
          ]
        }
      ],
      "source": [
        "print(f\"X shape: {X_train.shape}\")\n",
        "print(f\"y shape: {y_train.shape}\")"
      ]
    },
    {
      "cell_type": "code",
      "execution_count": null,
      "metadata": {
        "id": "oj-tYOCVcaoF"
      },
      "outputs": [],
      "source": [
        "with torch.inference_mode():\n",
        "    preds = model(X_train)"
      ]
    },
    {
      "cell_type": "code",
      "execution_count": null,
      "metadata": {
        "colab": {
          "base_uri": "https://localhost:8080/"
        },
        "id": "ctZqIFVCcahj",
        "outputId": "62cc7fe7-285b-48c1-d744-5ceb69da6bbc"
      },
      "outputs": [
        {
          "data": {
            "text/plain": [
              "torch.Size([17000])"
            ]
          },
          "execution_count": 21,
          "metadata": {},
          "output_type": "execute_result"
        }
      ],
      "source": [
        "preds.shape"
      ]
    },
    {
      "cell_type": "code",
      "execution_count": null,
      "metadata": {
        "colab": {
          "base_uri": "https://localhost:8080/"
        },
        "id": "0lu6eIKQiLM3",
        "outputId": "ef1953cf-ff72-4998-b92c-b968fd8b28cd"
      },
      "outputs": [
        {
          "name": "stdout",
          "output_type": "stream",
          "text": [
            "Predictions: tensor([-6195.5967, -8498.9736,  -692.3985, -1590.7837, -1582.6688],\n",
            "       device='cuda:0')\n",
            "Actual values: tensor([66900., 80100., 85700., 73400., 65500.], device='cuda:0')\n"
          ]
        }
      ],
      "source": [
        "print(f\"Predictions: {preds[:5]}\")\n",
        "print(f\"Actual values: {y_train[:5]}\")"
      ]
    },
    {
      "cell_type": "markdown",
      "metadata": {
        "id": "rziFEORTirph"
      },
      "source": [
        "How do we train our neural network now?\n",
        "- The first step is to define a loss function and optimizer"
      ]
    },
    {
      "cell_type": "code",
      "execution_count": null,
      "metadata": {
        "id": "0NPfgNX5jH7H"
      },
      "outputs": [],
      "source": [
        "def mse_loss(predictions, targets):\n",
        "    differences = predictions - targets\n",
        "    squared_differences = differences ** 2\n",
        "    mean_squared_error = squared_differences.mean()\n",
        "    return mean_squared_error\n",
        "\n",
        "optimizer = torch.optim.Adam(model.parameters(), lr=0.01)"
      ]
    },
    {
      "cell_type": "markdown",
      "metadata": {
        "id": "hOSaN_VZjSYE"
      },
      "source": [
        "Adam Optimizer\n",
        "\n",
        "Optimizers are responsible for updating a neural network's parameters (weights and biases) to minimize the loss function during training.\n",
        "\n",
        "\n",
        "\\begin{aligned}\n",
        "v_t &= \\beta_1 * v_{t-1} - (1 - \\beta_1) * g_t \\\\\n",
        "s_t &= \\beta_2 * s_{t-1} - (1 - \\beta_2) * g_t^2 \\\\\n",
        "\\Delta\\omega_t &= -\\eta\\frac{v_t}{\\sqrt{s_t + \\epsilon}} * g_t \\\\\n",
        "\\omega_{t+1} &= \\omega_t + \\Delta\\omega_t\n",
        "\\end{aligned}\n",
        "\n",
        "\n",
        "- Momentum (vₜ): Tracks the moving average of gradients to help maintain direction and speed. Using β₁ (typically 0.9) means it keeps 90% of previous momentum and adds 10% of current gradient.\n",
        "\n",
        "\n",
        "- Adaptive Learning (sₜ): Tracks the squared gradients to adjust step sizes. Parameters with frequent large gradients get smaller updates, while infrequent/small gradients get larger updates. β₂ (typically 0.999) controls this memory.\n",
        "\n",
        "\n",
        "- Update (Δωₜ): Combines momentum with the adaptive scaling. The denominator √(sₜ + ε) makes updates smaller when past gradients were large, preventing overshooting.\n",
        "\n",
        "\n",
        "- Final Step (ωₜ₊₁): Simply applies the calculated update to current parameters."
      ]
    },
    {
      "cell_type": "code",
      "execution_count": null,
      "metadata": {
        "colab": {
          "base_uri": "https://localhost:8080/"
        },
        "id": "oLycJNdakq_R",
        "outputId": "0c3beebf-f170-46dc-8bce-d3380ee9558c"
      },
      "outputs": [
        {
          "name": "stdout",
          "output_type": "stream",
          "text": [
            "Epoch: 0 | Loss: 57851117568.0\n",
            "Test loss: 56548904960.0\n",
            "Epoch: 100 | Loss: 55584858112.0\n",
            "Test loss: 54312243200.0\n",
            "Epoch: 200 | Loss: 53444558848.0\n",
            "Test loss: 52196597760.0\n",
            "Epoch: 300 | Loss: 51426172928.0\n",
            "Test loss: 50198089728.0\n",
            "Epoch: 400 | Loss: 49524580352.0\n",
            "Test loss: 48311861248.0\n",
            "Epoch: 500 | Loss: 47734902784.0\n",
            "Test loss: 46533259264.0\n",
            "Epoch: 600 | Loss: 46052433920.0\n",
            "Test loss: 44857831424.0\n",
            "Epoch: 700 | Loss: 44472655872.0\n",
            "Test loss: 43281289216.0\n",
            "Epoch: 800 | Loss: 42991218688.0\n",
            "Test loss: 41799512064.0\n",
            "Epoch: 900 | Loss: 41603928064.0\n",
            "Test loss: 40408522752.0\n"
          ]
        }
      ],
      "source": [
        "torch.manual_seed(42) # Reproducibility\n",
        "epochs = 1000\n",
        "for epoch in range(epochs):\n",
        "    model.train()\n",
        "    preds = model(X_train)\n",
        "    loss = mse_loss(preds, y_train)\n",
        "    optimizer.zero_grad()\n",
        "    loss.backward()\n",
        "    optimizer.step()\n",
        "    if epoch % 100 == 0:\n",
        "        print(f\"Epoch: {epoch} | Loss: {loss}\")\n",
        "        with torch.inference_mode():\n",
        "            test_pred = model(X_test)\n",
        "            test_loss = mse_loss(test_pred, y_test)\n",
        "            print(f\"Test loss: {test_loss}\")"
      ]
    },
    {
      "cell_type": "markdown",
      "metadata": {
        "id": "diHv6sCXl5QE"
      },
      "source": [
        "Why is the model performing so poorly?"
      ]
    },
    {
      "cell_type": "code",
      "execution_count": null,
      "metadata": {
        "id": "S8GxvQkbIj9s"
      },
      "outputs": [],
      "source": [
        "train_data_scaled = (train_data - train_data.min()) / (train_data.max() - train_data.min())\n",
        "test_data_scaled = (test_data - train_data.min()) / (train_data.max() - train_data.min())"
      ]
    },
    {
      "cell_type": "code",
      "execution_count": null,
      "metadata": {
        "colab": {
          "base_uri": "https://localhost:8080/",
          "height": 424
        },
        "id": "zQt-4z6mQ8ez",
        "outputId": "4effcd57-24e1-4eb6-a6d8-b30572673a4a"
      },
      "outputs": [
        {
          "data": {
            "application/vnd.google.colaboratory.intrinsic+json": {
              "summary": "{\n  \"name\": \"train_data_scaled\",\n  \"rows\": 17000,\n  \"fields\": [\n    {\n      \"column\": \"longitude\",\n      \"properties\": {\n        \"dtype\": \"number\",\n        \"std\": 0.19971776976356376,\n        \"min\": 0.0,\n        \"max\": 1.0,\n        \"num_unique_values\": 827,\n        \"samples\": [\n          0.6762948207171312,\n          0.10258964143426315,\n          0.6065737051792822\n        ],\n        \"semantic_type\": \"\",\n        \"description\": \"\"\n      }\n    },\n    {\n      \"column\": \"latitude\",\n      \"properties\": {\n        \"dtype\": \"number\",\n        \"std\": 0.22713494098374704,\n        \"min\": 0.0,\n        \"max\": 1.0,\n        \"num_unique_values\": 840,\n        \"samples\": [\n          0.6269925611052068,\n          0.8767268862911792,\n          0.015940488841657652\n        ],\n        \"semantic_type\": \"\",\n        \"description\": \"\"\n      }\n    },\n    {\n      \"column\": \"housing_median_age\",\n      \"properties\": {\n        \"dtype\": \"number\",\n        \"std\": 0.24680268591490323,\n        \"min\": 0.0,\n        \"max\": 1.0,\n        \"num_unique_values\": 52,\n        \"samples\": [\n          0.43137254901960786,\n          1.0,\n          0.9019607843137255\n        ],\n        \"semantic_type\": \"\",\n        \"description\": \"\"\n      }\n    },\n    {\n      \"column\": \"total_rooms\",\n      \"properties\": {\n        \"dtype\": \"number\",\n        \"std\": 0.057465324145321316,\n        \"min\": 0.0,\n        \"max\": 1.0,\n        \"num_unique_values\": 5533,\n        \"samples\": [\n          0.09389745617503624,\n          0.18328720179253988,\n          0.14364043759061554\n        ],\n        \"semantic_type\": \"\",\n        \"description\": \"\"\n      }\n    },\n    {\n      \"column\": \"total_bedrooms\",\n      \"properties\": {\n        \"dtype\": \"number\",\n        \"std\": 0.065409598320898,\n        \"min\": 0.0,\n        \"max\": 1.0,\n        \"num_unique_values\": 1848,\n        \"samples\": [\n          0.11297330850403477,\n          0.11142147734326505,\n          0.3218497827436375\n        ],\n        \"semantic_type\": \"\",\n        \"description\": \"\"\n      }\n    },\n    {\n      \"column\": \"population\",\n      \"properties\": {\n        \"dtype\": \"number\",\n        \"std\": 0.03217166846490996,\n        \"min\": 0.0,\n        \"max\": 1.0,\n        \"num_unique_values\": 3683,\n        \"samples\": [\n          0.006894812074329438,\n          0.04854396143389669,\n          0.006502424395302559\n        ],\n        \"semantic_type\": \"\",\n        \"description\": \"\"\n      }\n    },\n    {\n      \"column\": \"households\",\n      \"properties\": {\n        \"dtype\": \"number\",\n        \"std\": 0.06323315916064788,\n        \"min\": 0.0,\n        \"max\": 1.0,\n        \"num_unique_values\": 1740,\n        \"samples\": [\n          0.0639697418187798,\n          0.17891794112810394,\n          0.2220029600394672\n        ],\n        \"semantic_type\": \"\",\n        \"description\": \"\"\n      }\n    },\n    {\n      \"column\": \"median_income\",\n      \"properties\": {\n        \"dtype\": \"number\",\n        \"std\": 0.13159518616150867,\n        \"min\": 0.0,\n        \"max\": 1.0,\n        \"num_unique_values\": 11175,\n        \"samples\": [\n          0.4665866677700997,\n          0.3537468448711052,\n          0.2569826623081061\n        ],\n        \"semantic_type\": \"\",\n        \"description\": \"\"\n      }\n    },\n    {\n      \"column\": \"median_house_value\",\n      \"properties\": {\n        \"dtype\": \"number\",\n        \"std\": 0.239140796094055,\n        \"min\": 0.0,\n        \"max\": 1.0,\n        \"num_unique_values\": 3694,\n        \"samples\": [\n          0.30371214964062004,\n          0.6841229520703007,\n          0.20969191879621116\n        ],\n        \"semantic_type\": \"\",\n        \"description\": \"\"\n      }\n    }\n  ]\n}",
              "type": "dataframe",
              "variable_name": "train_data_scaled"
            },
            "text/html": [
              "\n",
              "  <div id=\"df-a5d2d6a4-d5a8-4c1f-ac08-f1010071b10c\" class=\"colab-df-container\">\n",
              "    <div>\n",
              "<style scoped>\n",
              "    .dataframe tbody tr th:only-of-type {\n",
              "        vertical-align: middle;\n",
              "    }\n",
              "\n",
              "    .dataframe tbody tr th {\n",
              "        vertical-align: top;\n",
              "    }\n",
              "\n",
              "    .dataframe thead th {\n",
              "        text-align: right;\n",
              "    }\n",
              "</style>\n",
              "<table border=\"1\" class=\"dataframe\">\n",
              "  <thead>\n",
              "    <tr style=\"text-align: right;\">\n",
              "      <th></th>\n",
              "      <th>longitude</th>\n",
              "      <th>latitude</th>\n",
              "      <th>housing_median_age</th>\n",
              "      <th>total_rooms</th>\n",
              "      <th>total_bedrooms</th>\n",
              "      <th>population</th>\n",
              "      <th>households</th>\n",
              "      <th>median_income</th>\n",
              "      <th>median_house_value</th>\n",
              "    </tr>\n",
              "  </thead>\n",
              "  <tbody>\n",
              "    <tr>\n",
              "      <th>0</th>\n",
              "      <td>1.000000</td>\n",
              "      <td>0.175345</td>\n",
              "      <td>0.274510</td>\n",
              "      <td>0.147885</td>\n",
              "      <td>0.198945</td>\n",
              "      <td>0.028364</td>\n",
              "      <td>0.077454</td>\n",
              "      <td>0.068530</td>\n",
              "      <td>0.107012</td>\n",
              "    </tr>\n",
              "    <tr>\n",
              "      <th>1</th>\n",
              "      <td>0.984064</td>\n",
              "      <td>0.197662</td>\n",
              "      <td>0.352941</td>\n",
              "      <td>0.201608</td>\n",
              "      <td>0.294848</td>\n",
              "      <td>0.031559</td>\n",
              "      <td>0.075974</td>\n",
              "      <td>0.091040</td>\n",
              "      <td>0.134228</td>\n",
              "    </tr>\n",
              "    <tr>\n",
              "      <th>2</th>\n",
              "      <td>0.975100</td>\n",
              "      <td>0.122210</td>\n",
              "      <td>0.313725</td>\n",
              "      <td>0.018927</td>\n",
              "      <td>0.026847</td>\n",
              "      <td>0.009249</td>\n",
              "      <td>0.019076</td>\n",
              "      <td>0.079378</td>\n",
              "      <td>0.145775</td>\n",
              "    </tr>\n",
              "    <tr>\n",
              "      <th>3</th>\n",
              "      <td>0.974104</td>\n",
              "      <td>0.116897</td>\n",
              "      <td>0.254902</td>\n",
              "      <td>0.039515</td>\n",
              "      <td>0.052142</td>\n",
              "      <td>0.014350</td>\n",
              "      <td>0.037000</td>\n",
              "      <td>0.185639</td>\n",
              "      <td>0.120414</td>\n",
              "    </tr>\n",
              "    <tr>\n",
              "      <th>4</th>\n",
              "      <td>0.974104</td>\n",
              "      <td>0.109458</td>\n",
              "      <td>0.372549</td>\n",
              "      <td>0.038276</td>\n",
              "      <td>0.050435</td>\n",
              "      <td>0.017405</td>\n",
              "      <td>0.042921</td>\n",
              "      <td>0.098281</td>\n",
              "      <td>0.104125</td>\n",
              "    </tr>\n",
              "    <tr>\n",
              "      <th>...</th>\n",
              "      <td>...</td>\n",
              "      <td>...</td>\n",
              "      <td>...</td>\n",
              "      <td>...</td>\n",
              "      <td>...</td>\n",
              "      <td>...</td>\n",
              "      <td>...</td>\n",
              "      <td>...</td>\n",
              "      <td>...</td>\n",
              "    </tr>\n",
              "    <tr>\n",
              "      <th>16995</th>\n",
              "      <td>0.008964</td>\n",
              "      <td>0.854410</td>\n",
              "      <td>1.000000</td>\n",
              "      <td>0.058389</td>\n",
              "      <td>0.060987</td>\n",
              "      <td>0.025337</td>\n",
              "      <td>0.060516</td>\n",
              "      <td>0.128081</td>\n",
              "      <td>0.198764</td>\n",
              "    </tr>\n",
              "    <tr>\n",
              "      <th>16996</th>\n",
              "      <td>0.007968</td>\n",
              "      <td>0.866100</td>\n",
              "      <td>0.686275</td>\n",
              "      <td>0.061869</td>\n",
              "      <td>0.081782</td>\n",
              "      <td>0.033381</td>\n",
              "      <td>0.076303</td>\n",
              "      <td>0.139170</td>\n",
              "      <td>0.131960</td>\n",
              "    </tr>\n",
              "    <tr>\n",
              "      <th>16997</th>\n",
              "      <td>0.004980</td>\n",
              "      <td>0.988310</td>\n",
              "      <td>0.313725</td>\n",
              "      <td>0.070515</td>\n",
              "      <td>0.082247</td>\n",
              "      <td>0.034782</td>\n",
              "      <td>0.074823</td>\n",
              "      <td>0.174577</td>\n",
              "      <td>0.182682</td>\n",
              "    </tr>\n",
              "    <tr>\n",
              "      <th>16998</th>\n",
              "      <td>0.004980</td>\n",
              "      <td>0.984060</td>\n",
              "      <td>0.352941</td>\n",
              "      <td>0.070384</td>\n",
              "      <td>0.085506</td>\n",
              "      <td>0.036296</td>\n",
              "      <td>0.078441</td>\n",
              "      <td>0.102054</td>\n",
              "      <td>0.145981</td>\n",
              "    </tr>\n",
              "    <tr>\n",
              "      <th>16999</th>\n",
              "      <td>0.000000</td>\n",
              "      <td>0.850159</td>\n",
              "      <td>1.000000</td>\n",
              "      <td>0.047924</td>\n",
              "      <td>0.046400</td>\n",
              "      <td>0.022506</td>\n",
              "      <td>0.044236</td>\n",
              "      <td>0.173432</td>\n",
              "      <td>0.164125</td>\n",
              "    </tr>\n",
              "  </tbody>\n",
              "</table>\n",
              "<p>17000 rows × 9 columns</p>\n",
              "</div>\n",
              "    <div class=\"colab-df-buttons\">\n",
              "\n",
              "  <div class=\"colab-df-container\">\n",
              "    <button class=\"colab-df-convert\" onclick=\"convertToInteractive('df-a5d2d6a4-d5a8-4c1f-ac08-f1010071b10c')\"\n",
              "            title=\"Convert this dataframe to an interactive table.\"\n",
              "            style=\"display:none;\">\n",
              "\n",
              "  <svg xmlns=\"http://www.w3.org/2000/svg\" height=\"24px\" viewBox=\"0 -960 960 960\">\n",
              "    <path d=\"M120-120v-720h720v720H120Zm60-500h600v-160H180v160Zm220 220h160v-160H400v160Zm0 220h160v-160H400v160ZM180-400h160v-160H180v160Zm440 0h160v-160H620v160ZM180-180h160v-160H180v160Zm440 0h160v-160H620v160Z\"/>\n",
              "  </svg>\n",
              "    </button>\n",
              "\n",
              "  <style>\n",
              "    .colab-df-container {\n",
              "      display:flex;\n",
              "      gap: 12px;\n",
              "    }\n",
              "\n",
              "    .colab-df-convert {\n",
              "      background-color: #E8F0FE;\n",
              "      border: none;\n",
              "      border-radius: 50%;\n",
              "      cursor: pointer;\n",
              "      display: none;\n",
              "      fill: #1967D2;\n",
              "      height: 32px;\n",
              "      padding: 0 0 0 0;\n",
              "      width: 32px;\n",
              "    }\n",
              "\n",
              "    .colab-df-convert:hover {\n",
              "      background-color: #E2EBFA;\n",
              "      box-shadow: 0px 1px 2px rgba(60, 64, 67, 0.3), 0px 1px 3px 1px rgba(60, 64, 67, 0.15);\n",
              "      fill: #174EA6;\n",
              "    }\n",
              "\n",
              "    .colab-df-buttons div {\n",
              "      margin-bottom: 4px;\n",
              "    }\n",
              "\n",
              "    [theme=dark] .colab-df-convert {\n",
              "      background-color: #3B4455;\n",
              "      fill: #D2E3FC;\n",
              "    }\n",
              "\n",
              "    [theme=dark] .colab-df-convert:hover {\n",
              "      background-color: #434B5C;\n",
              "      box-shadow: 0px 1px 3px 1px rgba(0, 0, 0, 0.15);\n",
              "      filter: drop-shadow(0px 1px 2px rgba(0, 0, 0, 0.3));\n",
              "      fill: #FFFFFF;\n",
              "    }\n",
              "  </style>\n",
              "\n",
              "    <script>\n",
              "      const buttonEl =\n",
              "        document.querySelector('#df-a5d2d6a4-d5a8-4c1f-ac08-f1010071b10c button.colab-df-convert');\n",
              "      buttonEl.style.display =\n",
              "        google.colab.kernel.accessAllowed ? 'block' : 'none';\n",
              "\n",
              "      async function convertToInteractive(key) {\n",
              "        const element = document.querySelector('#df-a5d2d6a4-d5a8-4c1f-ac08-f1010071b10c');\n",
              "        const dataTable =\n",
              "          await google.colab.kernel.invokeFunction('convertToInteractive',\n",
              "                                                    [key], {});\n",
              "        if (!dataTable) return;\n",
              "\n",
              "        const docLinkHtml = 'Like what you see? Visit the ' +\n",
              "          '<a target=\"_blank\" href=https://colab.research.google.com/notebooks/data_table.ipynb>data table notebook</a>'\n",
              "          + ' to learn more about interactive tables.';\n",
              "        element.innerHTML = '';\n",
              "        dataTable['output_type'] = 'display_data';\n",
              "        await google.colab.output.renderOutput(dataTable, element);\n",
              "        const docLink = document.createElement('div');\n",
              "        docLink.innerHTML = docLinkHtml;\n",
              "        element.appendChild(docLink);\n",
              "      }\n",
              "    </script>\n",
              "  </div>\n",
              "\n",
              "\n",
              "<div id=\"df-aab94296-131d-4d62-aa73-ea4e7286e369\">\n",
              "  <button class=\"colab-df-quickchart\" onclick=\"quickchart('df-aab94296-131d-4d62-aa73-ea4e7286e369')\"\n",
              "            title=\"Suggest charts\"\n",
              "            style=\"display:none;\">\n",
              "\n",
              "<svg xmlns=\"http://www.w3.org/2000/svg\" height=\"24px\"viewBox=\"0 0 24 24\"\n",
              "     width=\"24px\">\n",
              "    <g>\n",
              "        <path d=\"M19 3H5c-1.1 0-2 .9-2 2v14c0 1.1.9 2 2 2h14c1.1 0 2-.9 2-2V5c0-1.1-.9-2-2-2zM9 17H7v-7h2v7zm4 0h-2V7h2v10zm4 0h-2v-4h2v4z\"/>\n",
              "    </g>\n",
              "</svg>\n",
              "  </button>\n",
              "\n",
              "<style>\n",
              "  .colab-df-quickchart {\n",
              "      --bg-color: #E8F0FE;\n",
              "      --fill-color: #1967D2;\n",
              "      --hover-bg-color: #E2EBFA;\n",
              "      --hover-fill-color: #174EA6;\n",
              "      --disabled-fill-color: #AAA;\n",
              "      --disabled-bg-color: #DDD;\n",
              "  }\n",
              "\n",
              "  [theme=dark] .colab-df-quickchart {\n",
              "      --bg-color: #3B4455;\n",
              "      --fill-color: #D2E3FC;\n",
              "      --hover-bg-color: #434B5C;\n",
              "      --hover-fill-color: #FFFFFF;\n",
              "      --disabled-bg-color: #3B4455;\n",
              "      --disabled-fill-color: #666;\n",
              "  }\n",
              "\n",
              "  .colab-df-quickchart {\n",
              "    background-color: var(--bg-color);\n",
              "    border: none;\n",
              "    border-radius: 50%;\n",
              "    cursor: pointer;\n",
              "    display: none;\n",
              "    fill: var(--fill-color);\n",
              "    height: 32px;\n",
              "    padding: 0;\n",
              "    width: 32px;\n",
              "  }\n",
              "\n",
              "  .colab-df-quickchart:hover {\n",
              "    background-color: var(--hover-bg-color);\n",
              "    box-shadow: 0 1px 2px rgba(60, 64, 67, 0.3), 0 1px 3px 1px rgba(60, 64, 67, 0.15);\n",
              "    fill: var(--button-hover-fill-color);\n",
              "  }\n",
              "\n",
              "  .colab-df-quickchart-complete:disabled,\n",
              "  .colab-df-quickchart-complete:disabled:hover {\n",
              "    background-color: var(--disabled-bg-color);\n",
              "    fill: var(--disabled-fill-color);\n",
              "    box-shadow: none;\n",
              "  }\n",
              "\n",
              "  .colab-df-spinner {\n",
              "    border: 2px solid var(--fill-color);\n",
              "    border-color: transparent;\n",
              "    border-bottom-color: var(--fill-color);\n",
              "    animation:\n",
              "      spin 1s steps(1) infinite;\n",
              "  }\n",
              "\n",
              "  @keyframes spin {\n",
              "    0% {\n",
              "      border-color: transparent;\n",
              "      border-bottom-color: var(--fill-color);\n",
              "      border-left-color: var(--fill-color);\n",
              "    }\n",
              "    20% {\n",
              "      border-color: transparent;\n",
              "      border-left-color: var(--fill-color);\n",
              "      border-top-color: var(--fill-color);\n",
              "    }\n",
              "    30% {\n",
              "      border-color: transparent;\n",
              "      border-left-color: var(--fill-color);\n",
              "      border-top-color: var(--fill-color);\n",
              "      border-right-color: var(--fill-color);\n",
              "    }\n",
              "    40% {\n",
              "      border-color: transparent;\n",
              "      border-right-color: var(--fill-color);\n",
              "      border-top-color: var(--fill-color);\n",
              "    }\n",
              "    60% {\n",
              "      border-color: transparent;\n",
              "      border-right-color: var(--fill-color);\n",
              "    }\n",
              "    80% {\n",
              "      border-color: transparent;\n",
              "      border-right-color: var(--fill-color);\n",
              "      border-bottom-color: var(--fill-color);\n",
              "    }\n",
              "    90% {\n",
              "      border-color: transparent;\n",
              "      border-bottom-color: var(--fill-color);\n",
              "    }\n",
              "  }\n",
              "</style>\n",
              "\n",
              "  <script>\n",
              "    async function quickchart(key) {\n",
              "      const quickchartButtonEl =\n",
              "        document.querySelector('#' + key + ' button');\n",
              "      quickchartButtonEl.disabled = true;  // To prevent multiple clicks.\n",
              "      quickchartButtonEl.classList.add('colab-df-spinner');\n",
              "      try {\n",
              "        const charts = await google.colab.kernel.invokeFunction(\n",
              "            'suggestCharts', [key], {});\n",
              "      } catch (error) {\n",
              "        console.error('Error during call to suggestCharts:', error);\n",
              "      }\n",
              "      quickchartButtonEl.classList.remove('colab-df-spinner');\n",
              "      quickchartButtonEl.classList.add('colab-df-quickchart-complete');\n",
              "    }\n",
              "    (() => {\n",
              "      let quickchartButtonEl =\n",
              "        document.querySelector('#df-aab94296-131d-4d62-aa73-ea4e7286e369 button');\n",
              "      quickchartButtonEl.style.display =\n",
              "        google.colab.kernel.accessAllowed ? 'block' : 'none';\n",
              "    })();\n",
              "  </script>\n",
              "</div>\n",
              "\n",
              "  <div id=\"id_2ca01508-30e7-492a-8784-980691c2bac2\">\n",
              "    <style>\n",
              "      .colab-df-generate {\n",
              "        background-color: #E8F0FE;\n",
              "        border: none;\n",
              "        border-radius: 50%;\n",
              "        cursor: pointer;\n",
              "        display: none;\n",
              "        fill: #1967D2;\n",
              "        height: 32px;\n",
              "        padding: 0 0 0 0;\n",
              "        width: 32px;\n",
              "      }\n",
              "\n",
              "      .colab-df-generate:hover {\n",
              "        background-color: #E2EBFA;\n",
              "        box-shadow: 0px 1px 2px rgba(60, 64, 67, 0.3), 0px 1px 3px 1px rgba(60, 64, 67, 0.15);\n",
              "        fill: #174EA6;\n",
              "      }\n",
              "\n",
              "      [theme=dark] .colab-df-generate {\n",
              "        background-color: #3B4455;\n",
              "        fill: #D2E3FC;\n",
              "      }\n",
              "\n",
              "      [theme=dark] .colab-df-generate:hover {\n",
              "        background-color: #434B5C;\n",
              "        box-shadow: 0px 1px 3px 1px rgba(0, 0, 0, 0.15);\n",
              "        filter: drop-shadow(0px 1px 2px rgba(0, 0, 0, 0.3));\n",
              "        fill: #FFFFFF;\n",
              "      }\n",
              "    </style>\n",
              "    <button class=\"colab-df-generate\" onclick=\"generateWithVariable('train_data_scaled')\"\n",
              "            title=\"Generate code using this dataframe.\"\n",
              "            style=\"display:none;\">\n",
              "\n",
              "  <svg xmlns=\"http://www.w3.org/2000/svg\" height=\"24px\"viewBox=\"0 0 24 24\"\n",
              "       width=\"24px\">\n",
              "    <path d=\"M7,19H8.4L18.45,9,17,7.55,7,17.6ZM5,21V16.75L18.45,3.32a2,2,0,0,1,2.83,0l1.4,1.43a1.91,1.91,0,0,1,.58,1.4,1.91,1.91,0,0,1-.58,1.4L9.25,21ZM18.45,9,17,7.55Zm-12,3A5.31,5.31,0,0,0,4.9,8.1,5.31,5.31,0,0,0,1,6.5,5.31,5.31,0,0,0,4.9,4.9,5.31,5.31,0,0,0,6.5,1,5.31,5.31,0,0,0,8.1,4.9,5.31,5.31,0,0,0,12,6.5,5.46,5.46,0,0,0,6.5,12Z\"/>\n",
              "  </svg>\n",
              "    </button>\n",
              "    <script>\n",
              "      (() => {\n",
              "      const buttonEl =\n",
              "        document.querySelector('#id_2ca01508-30e7-492a-8784-980691c2bac2 button.colab-df-generate');\n",
              "      buttonEl.style.display =\n",
              "        google.colab.kernel.accessAllowed ? 'block' : 'none';\n",
              "\n",
              "      buttonEl.onclick = () => {\n",
              "        google.colab.notebook.generateWithVariable('train_data_scaled');\n",
              "      }\n",
              "      })();\n",
              "    </script>\n",
              "  </div>\n",
              "\n",
              "    </div>\n",
              "  </div>\n"
            ],
            "text/plain": [
              "       longitude  latitude  housing_median_age  total_rooms  total_bedrooms  \\\n",
              "0       1.000000  0.175345            0.274510     0.147885        0.198945   \n",
              "1       0.984064  0.197662            0.352941     0.201608        0.294848   \n",
              "2       0.975100  0.122210            0.313725     0.018927        0.026847   \n",
              "3       0.974104  0.116897            0.254902     0.039515        0.052142   \n",
              "4       0.974104  0.109458            0.372549     0.038276        0.050435   \n",
              "...          ...       ...                 ...          ...             ...   \n",
              "16995   0.008964  0.854410            1.000000     0.058389        0.060987   \n",
              "16996   0.007968  0.866100            0.686275     0.061869        0.081782   \n",
              "16997   0.004980  0.988310            0.313725     0.070515        0.082247   \n",
              "16998   0.004980  0.984060            0.352941     0.070384        0.085506   \n",
              "16999   0.000000  0.850159            1.000000     0.047924        0.046400   \n",
              "\n",
              "       population  households  median_income  median_house_value  \n",
              "0        0.028364    0.077454       0.068530            0.107012  \n",
              "1        0.031559    0.075974       0.091040            0.134228  \n",
              "2        0.009249    0.019076       0.079378            0.145775  \n",
              "3        0.014350    0.037000       0.185639            0.120414  \n",
              "4        0.017405    0.042921       0.098281            0.104125  \n",
              "...           ...         ...            ...                 ...  \n",
              "16995    0.025337    0.060516       0.128081            0.198764  \n",
              "16996    0.033381    0.076303       0.139170            0.131960  \n",
              "16997    0.034782    0.074823       0.174577            0.182682  \n",
              "16998    0.036296    0.078441       0.102054            0.145981  \n",
              "16999    0.022506    0.044236       0.173432            0.164125  \n",
              "\n",
              "[17000 rows x 9 columns]"
            ]
          },
          "execution_count": 30,
          "metadata": {},
          "output_type": "execute_result"
        }
      ],
      "source": [
        "train_data_scaled"
      ]
    },
    {
      "cell_type": "markdown",
      "metadata": {
        "id": "rVVTex2ZWSny"
      },
      "source": [
        "\\Refer to [Scikit-learn's docs on preprocessing](https://scikit-learn.org/1.5/modules/preprocessing.html) for more info on how you can preprocess your data and some useful built-in tools, like the StandardScaler and MinMaxScaler"
      ]
    },
    {
      "cell_type": "code",
      "execution_count": null,
      "metadata": {
        "id": "EtpMZXZtJbrZ"
      },
      "outputs": [],
      "source": [
        "X_train_scaled = torch.Tensor(train_data_scaled.drop('median_house_value', axis = 1).values)\n",
        "X_test_scaled = torch.Tensor(test_data_scaled.drop('median_house_value', axis = 1).values)\n",
        "y_train_scaled = torch.Tensor(train_data_scaled['median_house_value'])\n",
        "y_test_scaled = torch.Tensor(test_data_scaled['median_house_value'])"
      ]
    },
    {
      "cell_type": "code",
      "execution_count": null,
      "metadata": {
        "colab": {
          "base_uri": "https://localhost:8080/"
        },
        "id": "6XEnuB3TJCXa",
        "outputId": "92ec7a15-1e9d-4896-8155-6f4bfe16c0e1"
      },
      "outputs": [
        {
          "name": "stdout",
          "output_type": "stream",
          "text": [
            "Epoch: 0 | Train Loss: 0.21479733288288116 | Test Loss: 0.20923136174678802\n",
            "Epoch: 100 | Train Loss: 0.11090950667858124 | Test Loss: 0.10512320697307587\n",
            "Epoch: 200 | Train Loss: 0.09244022518396378 | Test Loss: 0.08671043813228607\n",
            "Epoch: 300 | Train Loss: 0.0834408774971962 | Test Loss: 0.07823074609041214\n",
            "Epoch: 400 | Train Loss: 0.07612616568803787 | Test Loss: 0.0714745968580246\n",
            "Epoch: 500 | Train Loss: 0.0697864517569542 | Test Loss: 0.0656508356332779\n",
            "Epoch: 600 | Train Loss: 0.06419005244970322 | Test Loss: 0.060523610562086105\n",
            "Epoch: 700 | Train Loss: 0.059210896492004395 | Test Loss: 0.055969737470149994\n",
            "Epoch: 800 | Train Loss: 0.05476587265729904 | Test Loss: 0.051909174770116806\n",
            "Epoch: 900 | Train Loss: 0.05079356208443642 | Test Loss: 0.04828337952494621\n"
          ]
        }
      ],
      "source": [
        "model = LinearRegressionModel(in_features=8)\n",
        "optimizer = torch.optim.Adam(model.parameters(), lr=0.001)\n",
        "model.train()\n",
        "epochs = 1000\n",
        "\n",
        "train_losses = []\n",
        "test_losses = []\n",
        "\n",
        "for epoch in range(epochs):\n",
        "    preds = model(X_train_scaled)\n",
        "    loss = mse_loss(preds, y_train_scaled)\n",
        "    train_losses.append(loss.item())\n",
        "    optimizer.zero_grad()\n",
        "    loss.backward()\n",
        "    optimizer.step()\n",
        "    with torch.inference_mode():\n",
        "        test_pred = model(X_test_scaled)\n",
        "        test_loss = mse_loss(test_pred, y_test_scaled)\n",
        "        test_losses.append(test_loss.item())\n",
        "        if epoch % 100 == 0:\n",
        "            print(f\"Epoch: {epoch} | Train Loss: {loss} | Test Loss: {test_loss}\")"
      ]
    },
    {
      "cell_type": "code",
      "execution_count": null,
      "metadata": {
        "colab": {
          "base_uri": "https://localhost:8080/",
          "height": 449
        },
        "id": "UhwfLcBPmgF8",
        "outputId": "6f9e99dd-a988-44ba-9823-836214a9563f"
      },
      "outputs": [
        {
          "data": {
            "image/png": "[encoded data removed]",
            "text/plain": [
              "<Figure size 640x480 with 1 Axes>"
            ]
          },
          "metadata": {},
          "output_type": "display_data"
        }
      ],
      "source": [
        "# Plotting the loss\n",
        "import matplotlib.pyplot as plt\n",
        "\n",
        "plt.plot(train_losses, label='Train Loss')\n",
        "plt.plot(test_losses, label='Test Loss')\n",
        "plt.xlabel('Epochs')\n",
        "plt.ylabel('Loss')\n",
        "plt.legend()\n",
        "plt.show()"
      ]
    },
    {
      "cell_type": "markdown",
      "metadata": {
        "id": "uI7z4nWLME0u"
      },
      "source": [
        "Let's verify this with the original dataset"
      ]
    },
    {
      "cell_type": "code",
      "execution_count": null,
      "metadata": {
        "colab": {
          "base_uri": "https://localhost:8080/",
          "height": 424
        },
        "id": "BKlhfJbJKsjo",
        "outputId": "95fd1bba-0657-48e9-f754-e3d38b44c5d9"
      },
      "outputs": [
        {
          "data": {
            "application/vnd.google.colaboratory.intrinsic+json": {
              "summary": "{\n  \"name\": \"test_data\",\n  \"rows\": 3000,\n  \"fields\": [\n    {\n      \"column\": \"longitude\",\n      \"properties\": {\n        \"dtype\": \"number\",\n        \"std\": 1.9949362939550161,\n        \"min\": -124.18,\n        \"max\": -114.49,\n        \"num_unique_values\": 607,\n        \"samples\": [\n          -121.15,\n          -121.46,\n          -121.02\n        ],\n        \"semantic_type\": \"\",\n        \"description\": \"\"\n      }\n    },\n    {\n      \"column\": \"latitude\",\n      \"properties\": {\n        \"dtype\": \"number\",\n        \"std\": 2.1296695233438325,\n        \"min\": 32.56,\n        \"max\": 41.92,\n        \"num_unique_values\": 587,\n        \"samples\": [\n          40.17,\n          33.69,\n          39.61\n        ],\n        \"semantic_type\": \"\",\n        \"description\": \"\"\n      }\n    },\n    {\n      \"column\": \"housing_median_age\",\n      \"properties\": {\n        \"dtype\": \"number\",\n        \"std\": 12.555395554955755,\n        \"min\": 1.0,\n        \"max\": 52.0,\n        \"num_unique_values\": 52,\n        \"samples\": [\n          14.0,\n          49.0,\n          7.0\n        ],\n        \"semantic_type\": \"\",\n        \"description\": \"\"\n      }\n    },\n    {\n      \"column\": \"total_rooms\",\n      \"properties\": {\n        \"dtype\": \"number\",\n        \"std\": 2155.59333162558,\n        \"min\": 6.0,\n        \"max\": 30450.0,\n        \"num_unique_values\": 2215,\n        \"samples\": [\n          1961.0,\n          1807.0,\n          680.0\n        ],\n        \"semantic_type\": \"\",\n        \"description\": \"\"\n      }\n    },\n    {\n      \"column\": \"total_bedrooms\",\n      \"properties\": {\n        \"dtype\": \"number\",\n        \"std\": 415.6543681363232,\n        \"min\": 2.0,\n        \"max\": 5419.0,\n        \"num_unique_values\": 1055,\n        \"samples\": [\n          532.0,\n          764.0,\n          2162.0\n        ],\n        \"semantic_type\": \"\",\n        \"description\": \"\"\n      }\n    },\n    {\n      \"column\": \"population\",\n      \"properties\": {\n        \"dtype\": \"number\",\n        \"std\": 1030.5430124122422,\n        \"min\": 5.0,\n        \"max\": 11935.0,\n        \"num_unique_values\": 1802,\n        \"samples\": [\n          947.0,\n          1140.0,\n          2019.0\n        ],\n        \"semantic_type\": \"\",\n        \"description\": \"\"\n      }\n    },\n    {\n      \"column\": \"households\",\n      \"properties\": {\n        \"dtype\": \"number\",\n        \"std\": 365.42270980552604,\n        \"min\": 2.0,\n        \"max\": 4930.0,\n        \"num_unique_values\": 1026,\n        \"samples\": [\n          646.0,\n          629.0,\n          504.0\n        ],\n        \"semantic_type\": \"\",\n        \"description\": \"\"\n      }\n    },\n    {\n      \"column\": \"median_income\",\n      \"properties\": {\n        \"dtype\": \"number\",\n        \"std\": 1.854511729691481,\n        \"min\": 0.4999,\n        \"max\": 15.0001,\n        \"num_unique_values\": 2578,\n        \"samples\": [\n          1.725,\n          0.7403,\n          2.6964\n        ],\n        \"semantic_type\": \"\",\n        \"description\": \"\"\n      }\n    },\n    {\n      \"column\": \"median_house_value\",\n      \"properties\": {\n        \"dtype\": \"number\",\n        \"std\": 113119.68746964433,\n        \"min\": 22500.0,\n        \"max\": 500001.0,\n        \"num_unique_values\": 1784,\n        \"samples\": [\n          71900.0,\n          63000.0,\n          115800.0\n        ],\n        \"semantic_type\": \"\",\n        \"description\": \"\"\n      }\n    }\n  ]\n}",
              "type": "dataframe",
              "variable_name": "test_data"
            },
            "text/html": [
              "\n",
              "  <div id=\"df-bc810ea4-bb32-4096-b849-61f68d5bea31\" class=\"colab-df-container\">\n",
              "    <div>\n",
              "<style scoped>\n",
              "    .dataframe tbody tr th:only-of-type {\n",
              "        vertical-align: middle;\n",
              "    }\n",
              "\n",
              "    .dataframe tbody tr th {\n",
              "        vertical-align: top;\n",
              "    }\n",
              "\n",
              "    .dataframe thead th {\n",
              "        text-align: right;\n",
              "    }\n",
              "</style>\n",
              "<table border=\"1\" class=\"dataframe\">\n",
              "  <thead>\n",
              "    <tr style=\"text-align: right;\">\n",
              "      <th></th>\n",
              "      <th>longitude</th>\n",
              "      <th>latitude</th>\n",
              "      <th>housing_median_age</th>\n",
              "      <th>total_rooms</th>\n",
              "      <th>total_bedrooms</th>\n",
              "      <th>population</th>\n",
              "      <th>households</th>\n",
              "      <th>median_income</th>\n",
              "      <th>median_house_value</th>\n",
              "    </tr>\n",
              "  </thead>\n",
              "  <tbody>\n",
              "    <tr>\n",
              "      <th>0</th>\n",
              "      <td>-122.05</td>\n",
              "      <td>37.37</td>\n",
              "      <td>27.0</td>\n",
              "      <td>3885.0</td>\n",
              "      <td>661.0</td>\n",
              "      <td>1537.0</td>\n",
              "      <td>606.0</td>\n",
              "      <td>6.6085</td>\n",
              "      <td>344700.0</td>\n",
              "    </tr>\n",
              "    <tr>\n",
              "      <th>1</th>\n",
              "      <td>-118.30</td>\n",
              "      <td>34.26</td>\n",
              "      <td>43.0</td>\n",
              "      <td>1510.0</td>\n",
              "      <td>310.0</td>\n",
              "      <td>809.0</td>\n",
              "      <td>277.0</td>\n",
              "      <td>3.5990</td>\n",
              "      <td>176500.0</td>\n",
              "    </tr>\n",
              "    <tr>\n",
              "      <th>2</th>\n",
              "      <td>-117.81</td>\n",
              "      <td>33.78</td>\n",
              "      <td>27.0</td>\n",
              "      <td>3589.0</td>\n",
              "      <td>507.0</td>\n",
              "      <td>1484.0</td>\n",
              "      <td>495.0</td>\n",
              "      <td>5.7934</td>\n",
              "      <td>270500.0</td>\n",
              "    </tr>\n",
              "    <tr>\n",
              "      <th>3</th>\n",
              "      <td>-118.36</td>\n",
              "      <td>33.82</td>\n",
              "      <td>28.0</td>\n",
              "      <td>67.0</td>\n",
              "      <td>15.0</td>\n",
              "      <td>49.0</td>\n",
              "      <td>11.0</td>\n",
              "      <td>6.1359</td>\n",
              "      <td>330000.0</td>\n",
              "    </tr>\n",
              "    <tr>\n",
              "      <th>4</th>\n",
              "      <td>-119.67</td>\n",
              "      <td>36.33</td>\n",
              "      <td>19.0</td>\n",
              "      <td>1241.0</td>\n",
              "      <td>244.0</td>\n",
              "      <td>850.0</td>\n",
              "      <td>237.0</td>\n",
              "      <td>2.9375</td>\n",
              "      <td>81700.0</td>\n",
              "    </tr>\n",
              "    <tr>\n",
              "      <th>...</th>\n",
              "      <td>...</td>\n",
              "      <td>...</td>\n",
              "      <td>...</td>\n",
              "      <td>...</td>\n",
              "      <td>...</td>\n",
              "      <td>...</td>\n",
              "      <td>...</td>\n",
              "      <td>...</td>\n",
              "      <td>...</td>\n",
              "    </tr>\n",
              "    <tr>\n",
              "      <th>2995</th>\n",
              "      <td>-119.86</td>\n",
              "      <td>34.42</td>\n",
              "      <td>23.0</td>\n",
              "      <td>1450.0</td>\n",
              "      <td>642.0</td>\n",
              "      <td>1258.0</td>\n",
              "      <td>607.0</td>\n",
              "      <td>1.1790</td>\n",
              "      <td>225000.0</td>\n",
              "    </tr>\n",
              "    <tr>\n",
              "      <th>2996</th>\n",
              "      <td>-118.14</td>\n",
              "      <td>34.06</td>\n",
              "      <td>27.0</td>\n",
              "      <td>5257.0</td>\n",
              "      <td>1082.0</td>\n",
              "      <td>3496.0</td>\n",
              "      <td>1036.0</td>\n",
              "      <td>3.3906</td>\n",
              "      <td>237200.0</td>\n",
              "    </tr>\n",
              "    <tr>\n",
              "      <th>2997</th>\n",
              "      <td>-119.70</td>\n",
              "      <td>36.30</td>\n",
              "      <td>10.0</td>\n",
              "      <td>956.0</td>\n",
              "      <td>201.0</td>\n",
              "      <td>693.0</td>\n",
              "      <td>220.0</td>\n",
              "      <td>2.2895</td>\n",
              "      <td>62000.0</td>\n",
              "    </tr>\n",
              "    <tr>\n",
              "      <th>2998</th>\n",
              "      <td>-117.12</td>\n",
              "      <td>34.10</td>\n",
              "      <td>40.0</td>\n",
              "      <td>96.0</td>\n",
              "      <td>14.0</td>\n",
              "      <td>46.0</td>\n",
              "      <td>14.0</td>\n",
              "      <td>3.2708</td>\n",
              "      <td>162500.0</td>\n",
              "    </tr>\n",
              "    <tr>\n",
              "      <th>2999</th>\n",
              "      <td>-119.63</td>\n",
              "      <td>34.42</td>\n",
              "      <td>42.0</td>\n",
              "      <td>1765.0</td>\n",
              "      <td>263.0</td>\n",
              "      <td>753.0</td>\n",
              "      <td>260.0</td>\n",
              "      <td>8.5608</td>\n",
              "      <td>500001.0</td>\n",
              "    </tr>\n",
              "  </tbody>\n",
              "</table>\n",
              "<p>3000 rows × 9 columns</p>\n",
              "</div>\n",
              "    <div class=\"colab-df-buttons\">\n",
              "\n",
              "  <div class=\"colab-df-container\">\n",
              "    <button class=\"colab-df-convert\" onclick=\"convertToInteractive('df-bc810ea4-bb32-4096-b849-61f68d5bea31')\"\n",
              "            title=\"Convert this dataframe to an interactive table.\"\n",
              "            style=\"display:none;\">\n",
              "\n",
              "  <svg xmlns=\"http://www.w3.org/2000/svg\" height=\"24px\" viewBox=\"0 -960 960 960\">\n",
              "    <path d=\"M120-120v-720h720v720H120Zm60-500h600v-160H180v160Zm220 220h160v-160H400v160Zm0 220h160v-160H400v160ZM180-400h160v-160H180v160Zm440 0h160v-160H620v160ZM180-180h160v-160H180v160Zm440 0h160v-160H620v160Z\"/>\n",
              "  </svg>\n",
              "    </button>\n",
              "\n",
              "  <style>\n",
              "    .colab-df-container {\n",
              "      display:flex;\n",
              "      gap: 12px;\n",
              "    }\n",
              "\n",
              "    .colab-df-convert {\n",
              "      background-color: #E8F0FE;\n",
              "      border: none;\n",
              "      border-radius: 50%;\n",
              "      cursor: pointer;\n",
              "      display: none;\n",
              "      fill: #1967D2;\n",
              "      height: 32px;\n",
              "      padding: 0 0 0 0;\n",
              "      width: 32px;\n",
              "    }\n",
              "\n",
              "    .colab-df-convert:hover {\n",
              "      background-color: #E2EBFA;\n",
              "      box-shadow: 0px 1px 2px rgba(60, 64, 67, 0.3), 0px 1px 3px 1px rgba(60, 64, 67, 0.15);\n",
              "      fill: #174EA6;\n",
              "    }\n",
              "\n",
              "    .colab-df-buttons div {\n",
              "      margin-bottom: 4px;\n",
              "    }\n",
              "\n",
              "    [theme=dark] .colab-df-convert {\n",
              "      background-color: #3B4455;\n",
              "      fill: #D2E3FC;\n",
              "    }\n",
              "\n",
              "    [theme=dark] .colab-df-convert:hover {\n",
              "      background-color: #434B5C;\n",
              "      box-shadow: 0px 1px 3px 1px rgba(0, 0, 0, 0.15);\n",
              "      filter: drop-shadow(0px 1px 2px rgba(0, 0, 0, 0.3));\n",
              "      fill: #FFFFFF;\n",
              "    }\n",
              "  </style>\n",
              "\n",
              "    <script>\n",
              "      const buttonEl =\n",
              "        document.querySelector('#df-bc810ea4-bb32-4096-b849-61f68d5bea31 button.colab-df-convert');\n",
              "      buttonEl.style.display =\n",
              "        google.colab.kernel.accessAllowed ? 'block' : 'none';\n",
              "\n",
              "      async function convertToInteractive(key) {\n",
              "        const element = document.querySelector('#df-bc810ea4-bb32-4096-b849-61f68d5bea31');\n",
              "        const dataTable =\n",
              "          await google.colab.kernel.invokeFunction('convertToInteractive',\n",
              "                                                    [key], {});\n",
              "        if (!dataTable) return;\n",
              "\n",
              "        const docLinkHtml = 'Like what you see? Visit the ' +\n",
              "          '<a target=\"_blank\" href=https://colab.research.google.com/notebooks/data_table.ipynb>data table notebook</a>'\n",
              "          + ' to learn more about interactive tables.';\n",
              "        element.innerHTML = '';\n",
              "        dataTable['output_type'] = 'display_data';\n",
              "        await google.colab.output.renderOutput(dataTable, element);\n",
              "        const docLink = document.createElement('div');\n",
              "        docLink.innerHTML = docLinkHtml;\n",
              "        element.appendChild(docLink);\n",
              "      }\n",
              "    </script>\n",
              "  </div>\n",
              "\n",
              "\n",
              "<div id=\"df-d08d82cd-8336-435f-802b-bea1c713d076\">\n",
              "  <button class=\"colab-df-quickchart\" onclick=\"quickchart('df-d08d82cd-8336-435f-802b-bea1c713d076')\"\n",
              "            title=\"Suggest charts\"\n",
              "            style=\"display:none;\">\n",
              "\n",
              "<svg xmlns=\"http://www.w3.org/2000/svg\" height=\"24px\"viewBox=\"0 0 24 24\"\n",
              "     width=\"24px\">\n",
              "    <g>\n",
              "        <path d=\"M19 3H5c-1.1 0-2 .9-2 2v14c0 1.1.9 2 2 2h14c1.1 0 2-.9 2-2V5c0-1.1-.9-2-2-2zM9 17H7v-7h2v7zm4 0h-2V7h2v10zm4 0h-2v-4h2v4z\"/>\n",
              "    </g>\n",
              "</svg>\n",
              "  </button>\n",
              "\n",
              "<style>\n",
              "  .colab-df-quickchart {\n",
              "      --bg-color: #E8F0FE;\n",
              "      --fill-color: #1967D2;\n",
              "      --hover-bg-color: #E2EBFA;\n",
              "      --hover-fill-color: #174EA6;\n",
              "      --disabled-fill-color: #AAA;\n",
              "      --disabled-bg-color: #DDD;\n",
              "  }\n",
              "\n",
              "  [theme=dark] .colab-df-quickchart {\n",
              "      --bg-color: #3B4455;\n",
              "      --fill-color: #D2E3FC;\n",
              "      --hover-bg-color: #434B5C;\n",
              "      --hover-fill-color: #FFFFFF;\n",
              "      --disabled-bg-color: #3B4455;\n",
              "      --disabled-fill-color: #666;\n",
              "  }\n",
              "\n",
              "  .colab-df-quickchart {\n",
              "    background-color: var(--bg-color);\n",
              "    border: none;\n",
              "    border-radius: 50%;\n",
              "    cursor: pointer;\n",
              "    display: none;\n",
              "    fill: var(--fill-color);\n",
              "    height: 32px;\n",
              "    padding: 0;\n",
              "    width: 32px;\n",
              "  }\n",
              "\n",
              "  .colab-df-quickchart:hover {\n",
              "    background-color: var(--hover-bg-color);\n",
              "    box-shadow: 0 1px 2px rgba(60, 64, 67, 0.3), 0 1px 3px 1px rgba(60, 64, 67, 0.15);\n",
              "    fill: var(--button-hover-fill-color);\n",
              "  }\n",
              "\n",
              "  .colab-df-quickchart-complete:disabled,\n",
              "  .colab-df-quickchart-complete:disabled:hover {\n",
              "    background-color: var(--disabled-bg-color);\n",
              "    fill: var(--disabled-fill-color);\n",
              "    box-shadow: none;\n",
              "  }\n",
              "\n",
              "  .colab-df-spinner {\n",
              "    border: 2px solid var(--fill-color);\n",
              "    border-color: transparent;\n",
              "    border-bottom-color: var(--fill-color);\n",
              "    animation:\n",
              "      spin 1s steps(1) infinite;\n",
              "  }\n",
              "\n",
              "  @keyframes spin {\n",
              "    0% {\n",
              "      border-color: transparent;\n",
              "      border-bottom-color: var(--fill-color);\n",
              "      border-left-color: var(--fill-color);\n",
              "    }\n",
              "    20% {\n",
              "      border-color: transparent;\n",
              "      border-left-color: var(--fill-color);\n",
              "      border-top-color: var(--fill-color);\n",
              "    }\n",
              "    30% {\n",
              "      border-color: transparent;\n",
              "      border-left-color: var(--fill-color);\n",
              "      border-top-color: var(--fill-color);\n",
              "      border-right-color: var(--fill-color);\n",
              "    }\n",
              "    40% {\n",
              "      border-color: transparent;\n",
              "      border-right-color: var(--fill-color);\n",
              "      border-top-color: var(--fill-color);\n",
              "    }\n",
              "    60% {\n",
              "      border-color: transparent;\n",
              "      border-right-color: var(--fill-color);\n",
              "    }\n",
              "    80% {\n",
              "      border-color: transparent;\n",
              "      border-right-color: var(--fill-color);\n",
              "      border-bottom-color: var(--fill-color);\n",
              "    }\n",
              "    90% {\n",
              "      border-color: transparent;\n",
              "      border-bottom-color: var(--fill-color);\n",
              "    }\n",
              "  }\n",
              "</style>\n",
              "\n",
              "  <script>\n",
              "    async function quickchart(key) {\n",
              "      const quickchartButtonEl =\n",
              "        document.querySelector('#' + key + ' button');\n",
              "      quickchartButtonEl.disabled = true;  // To prevent multiple clicks.\n",
              "      quickchartButtonEl.classList.add('colab-df-spinner');\n",
              "      try {\n",
              "        const charts = await google.colab.kernel.invokeFunction(\n",
              "            'suggestCharts', [key], {});\n",
              "      } catch (error) {\n",
              "        console.error('Error during call to suggestCharts:', error);\n",
              "      }\n",
              "      quickchartButtonEl.classList.remove('colab-df-spinner');\n",
              "      quickchartButtonEl.classList.add('colab-df-quickchart-complete');\n",
              "    }\n",
              "    (() => {\n",
              "      let quickchartButtonEl =\n",
              "        document.querySelector('#df-d08d82cd-8336-435f-802b-bea1c713d076 button');\n",
              "      quickchartButtonEl.style.display =\n",
              "        google.colab.kernel.accessAllowed ? 'block' : 'none';\n",
              "    })();\n",
              "  </script>\n",
              "</div>\n",
              "\n",
              "  <div id=\"id_41629731-51f5-437b-8733-89f74ab8deb5\">\n",
              "    <style>\n",
              "      .colab-df-generate {\n",
              "        background-color: #E8F0FE;\n",
              "        border: none;\n",
              "        border-radius: 50%;\n",
              "        cursor: pointer;\n",
              "        display: none;\n",
              "        fill: #1967D2;\n",
              "        height: 32px;\n",
              "        padding: 0 0 0 0;\n",
              "        width: 32px;\n",
              "      }\n",
              "\n",
              "      .colab-df-generate:hover {\n",
              "        background-color: #E2EBFA;\n",
              "        box-shadow: 0px 1px 2px rgba(60, 64, 67, 0.3), 0px 1px 3px 1px rgba(60, 64, 67, 0.15);\n",
              "        fill: #174EA6;\n",
              "      }\n",
              "\n",
              "      [theme=dark] .colab-df-generate {\n",
              "        background-color: #3B4455;\n",
              "        fill: #D2E3FC;\n",
              "      }\n",
              "\n",
              "      [theme=dark] .colab-df-generate:hover {\n",
              "        background-color: #434B5C;\n",
              "        box-shadow: 0px 1px 3px 1px rgba(0, 0, 0, 0.15);\n",
              "        filter: drop-shadow(0px 1px 2px rgba(0, 0, 0, 0.3));\n",
              "        fill: #FFFFFF;\n",
              "      }\n",
              "    </style>\n",
              "    <button class=\"colab-df-generate\" onclick=\"generateWithVariable('test_data')\"\n",
              "            title=\"Generate code using this dataframe.\"\n",
              "            style=\"display:none;\">\n",
              "\n",
              "  <svg xmlns=\"http://www.w3.org/2000/svg\" height=\"24px\"viewBox=\"0 0 24 24\"\n",
              "       width=\"24px\">\n",
              "    <path d=\"M7,19H8.4L18.45,9,17,7.55,7,17.6ZM5,21V16.75L18.45,3.32a2,2,0,0,1,2.83,0l1.4,1.43a1.91,1.91,0,0,1,.58,1.4,1.91,1.91,0,0,1-.58,1.4L9.25,21ZM18.45,9,17,7.55Zm-12,3A5.31,5.31,0,0,0,4.9,8.1,5.31,5.31,0,0,0,1,6.5,5.31,5.31,0,0,0,4.9,4.9,5.31,5.31,0,0,0,6.5,1,5.31,5.31,0,0,0,8.1,4.9,5.31,5.31,0,0,0,12,6.5,5.46,5.46,0,0,0,6.5,12Z\"/>\n",
              "  </svg>\n",
              "    </button>\n",
              "    <script>\n",
              "      (() => {\n",
              "      const buttonEl =\n",
              "        document.querySelector('#id_41629731-51f5-437b-8733-89f74ab8deb5 button.colab-df-generate');\n",
              "      buttonEl.style.display =\n",
              "        google.colab.kernel.accessAllowed ? 'block' : 'none';\n",
              "\n",
              "      buttonEl.onclick = () => {\n",
              "        google.colab.notebook.generateWithVariable('test_data');\n",
              "      }\n",
              "      })();\n",
              "    </script>\n",
              "  </div>\n",
              "\n",
              "    </div>\n",
              "  </div>\n"
            ],
            "text/plain": [
              "      longitude  latitude  housing_median_age  total_rooms  total_bedrooms  \\\n",
              "0       -122.05     37.37                27.0       3885.0           661.0   \n",
              "1       -118.30     34.26                43.0       1510.0           310.0   \n",
              "2       -117.81     33.78                27.0       3589.0           507.0   \n",
              "3       -118.36     33.82                28.0         67.0            15.0   \n",
              "4       -119.67     36.33                19.0       1241.0           244.0   \n",
              "...         ...       ...                 ...          ...             ...   \n",
              "2995    -119.86     34.42                23.0       1450.0           642.0   \n",
              "2996    -118.14     34.06                27.0       5257.0          1082.0   \n",
              "2997    -119.70     36.30                10.0        956.0           201.0   \n",
              "2998    -117.12     34.10                40.0         96.0            14.0   \n",
              "2999    -119.63     34.42                42.0       1765.0           263.0   \n",
              "\n",
              "      population  households  median_income  median_house_value  \n",
              "0         1537.0       606.0         6.6085            344700.0  \n",
              "1          809.0       277.0         3.5990            176500.0  \n",
              "2         1484.0       495.0         5.7934            270500.0  \n",
              "3           49.0        11.0         6.1359            330000.0  \n",
              "4          850.0       237.0         2.9375             81700.0  \n",
              "...          ...         ...            ...                 ...  \n",
              "2995      1258.0       607.0         1.1790            225000.0  \n",
              "2996      3496.0      1036.0         3.3906            237200.0  \n",
              "2997       693.0       220.0         2.2895             62000.0  \n",
              "2998        46.0        14.0         3.2708            162500.0  \n",
              "2999       753.0       260.0         8.5608            500001.0  \n",
              "\n",
              "[3000 rows x 9 columns]"
            ]
          },
          "execution_count": 31,
          "metadata": {},
          "output_type": "execute_result"
        }
      ],
      "source": [
        "test_data"
      ]
    },
    {
      "cell_type": "code",
      "execution_count": null,
      "metadata": {
        "colab": {
          "base_uri": "https://localhost:8080/"
        },
        "id": "H9JJsEY3MLBM",
        "outputId": "0a305ccc-82dc-4643-b94a-adf02e08880b"
      },
      "outputs": [
        {
          "name": "stdout",
          "output_type": "stream",
          "text": [
            "longitude               -122.0500\n",
            "latitude                  37.3700\n",
            "housing_median_age        27.0000\n",
            "total_rooms             3885.0000\n",
            "total_bedrooms           661.0000\n",
            "population              1537.0000\n",
            "households               606.0000\n",
            "median_income              6.6085\n",
            "median_house_value    344700.0000\n",
            "Name: 0, dtype: float64\n"
          ]
        }
      ],
      "source": [
        "row = test_data.iloc[0]\n",
        "print(row)"
      ]
    },
    {
      "cell_type": "code",
      "execution_count": null,
      "metadata": {
        "colab": {
          "base_uri": "https://localhost:8080/"
        },
        "id": "Q4xHMPmzMx8x",
        "outputId": "f6f72890-ad15-4495-ba6e-af4be2a2aaf5"
      },
      "outputs": [
        {
          "name": "stdout",
          "output_type": "stream",
          "text": [
            "tensor([0.4172]) tensor(0.6798)\n",
            "Predicted house value: 217362.15625\n"
          ]
        }
      ],
      "source": [
        "row_scaled = (row - train_data.min()) / (train_data.max() - train_data.min())\n",
        "row_scaled = torch.Tensor(row_scaled.drop('median_house_value').values)\n",
        "with torch.inference_mode():\n",
        "    pred_house_value = model(row_scaled)\n",
        "print(pred_house_value, y_test_scaled[0])\n",
        "unscaled_house_value = pred_house_value * (train_data['median_house_value'].max() - train_data['median_house_value'].min()) + train_data['median_house_value'].min()\n",
        "print(f\"Predicted house value: {unscaled_house_value.item()}\")"
      ]
    },
    {
      "cell_type": "code",
      "execution_count": null,
      "metadata": {
        "colab": {
          "base_uri": "https://localhost:8080/"
        },
        "id": "LnxzGw38O8nk",
        "outputId": "c39177c1-863a-4b7f-db0e-5c39469e82e9"
      },
      "outputs": [
        {
          "data": {
            "text/plain": [
              "tensor([0.2291, 0.5133, 0.5098, 0.1024, 0.1024, 0.0430, 0.0995, 0.4213])"
            ]
          },
          "execution_count": 34,
          "metadata": {},
          "output_type": "execute_result"
        }
      ],
      "source": [
        "row_scaled"
      ]
    },
    {
      "cell_type": "markdown",
      "metadata": {
        "id": "LrHBcr6jVAE4"
      },
      "source": [
        "The model still isn't performing that well - what could the possible reasons be?\n",
        "\n",
        "Let's try coding a slightly more complicated neural network\n",
        "\n",
        "### Using built-in modules from pytorch\n",
        "torch.nn contains several useful built-in modules to easily construct complex neural networks, like\n",
        "- nn.Linear - linear layers, as described during the session\n",
        "- nn.Conv2D - convolutional layers\n",
        "- nn.RNN, nn.GRU, nn.LSTM - to construct recurrent neural networks\n",
        "- nn.BatchNorm, nn.LayerNorm, etc. - normalization\n",
        "- nn.MultiheadAttention, nn.Transformer, ...\n",
        "\n",
        "Several loss functions,\n",
        "- nn.CrossEntropyLoss, nn.MSELoss, ...\n",
        "\n",
        "Refer to [this](https://pytorch.org/docs/stable/nn.html) for a more comprehensive list"
      ]
    },
    {
      "cell_type": "code",
      "execution_count": null,
      "metadata": {
        "id": "46y1GzciYsR8"
      },
      "outputs": [],
      "source": [
        "import torch\n",
        "import torch.nn as nn\n",
        "import torch.optim as optim\n",
        "from torchvision import datasets, transforms\n",
        "from torch.utils.data import DataLoader\n",
        "import os\n",
        "import matplotlib.pyplot as plt\n",
        "import numpy as np\n",
        "\n",
        "# Set device and hyperparameters\n",
        "device = torch.device('cuda' if torch.cuda.is_available() else 'cpu')\n",
        "batch_size = 64\n",
        "learning_rate = 0.001\n",
        "epochs = 10\n",
        "checkpoint_dir = 'checkpoints'\n",
        "os.makedirs(checkpoint_dir, exist_ok=True)"
      ]
    },
    {
      "cell_type": "code",
      "execution_count": null,
      "metadata": {
        "id": "nVTAB-63Y2LF"
      },
      "outputs": [],
      "source": [
        "class MNISTNet(nn.Module):\n",
        "    def __init__(self):\n",
        "        super(MNISTNet, self).__init__()\n",
        "        self.flatten = nn.Flatten()\n",
        "        self.layers = nn.Sequential(\n",
        "            nn.Linear(28 * 28, 512),\n",
        "            nn.ReLU(),\n",
        "            nn.Linear(512, 256),\n",
        "            nn.ReLU(),\n",
        "            nn.Linear(256, 10)\n",
        "        )\n",
        "\n",
        "    def forward(self, x):\n",
        "        x = self.flatten(x)\n",
        "        return self.layers(x)"
      ]
    },
    {
      "cell_type": "code",
      "execution_count": null,
      "metadata": {
        "id": "ni0-_0fTY4Hb"
      },
      "outputs": [],
      "source": [
        "# Initialize model, optimizer, and criterion\n",
        "model = MNISTNet().to(device)\n",
        "optimizer = optim.Adam(model.parameters(), lr=learning_rate)\n",
        "criterion = nn.CrossEntropyLoss()"
      ]
    },
    {
      "cell_type": "markdown",
      "metadata": {
        "id": "8rRRczeQZqiV"
      },
      "source": [
        "For an M-class classification problem, cross entropy loss is defined as:\n",
        "\n",
        "$\\mathcal{L}_{CE} = -\\sum_{c=1}^{M} y_c \\log(\\hat{y}_c)$\n",
        "\n",
        "In pytorch, it is implemented [slightly differently](https://pytorch.org/docs/stable/generated/torch.nn.CrossEntropyLoss.html):\n",
        "\n",
        "$\\mathcal{L}_{CE} = -\\sum_{c=1}^M y_c \\log\\left(\\frac{\\exp(x_c)}{\\sum_{k=1}^M \\exp(x_k)}\\right)$\n",
        "\n",
        "where,\n",
        "\n",
        "- $\\sum_{c=1}^M$: Sum over all M classes\n",
        "\n",
        "- $y_c$: Ground truth label (usually 0 or 1 in one-hot encoding)\n",
        "\n",
        "- $x_c$: Raw logit (model output) for class c\n",
        "\n",
        "- $\\exp(x_c)$: Exponential of logit for class c\n",
        "\n",
        "- $\\sum_{k=1}^M \\exp(x_k)$: Sum of exponentials for all classes (softmax denominator)\n",
        "\n",
        "- $\\frac{\\exp(x_c)}{\\sum_{k=1}^M \\exp(x_k)}$: Softmax function that converts logits to probabilities\n",
        "\n",
        "- (-) Negative sign makes loss positive (since log of probability is negative)\n"
      ]
    },
    {
      "cell_type": "code",
      "execution_count": null,
      "metadata": {
        "colab": {
          "base_uri": "https://localhost:8080/"
        },
        "id": "wfvZ5ngmZgoW",
        "outputId": "499395c6-32aa-4949-c002-f23db94be183"
      },
      "outputs": [
        {
          "name": "stdout",
          "output_type": "stream",
          "text": [
            "Downloading http://yann.lecun.com/exdb/mnist/train-images-idx3-ubyte.gz\n",
            "Failed to download (trying next):\n",
            "HTTP Error 403: Forbidden\n",
            "\n",
            "Downloading https://ossci-datasets.s3.amazonaws.com/mnist/train-images-idx3-ubyte.gz\n",
            "Downloading https://ossci-datasets.s3.amazonaws.com/mnist/train-images-idx3-ubyte.gz to ./data/MNIST/raw/train-images-idx3-ubyte.gz\n"
          ]
        },
        {
          "name": "stderr",
          "output_type": "stream",
          "text": [
            "100%|██████████| 9.91M/9.91M [00:00<00:00, 18.0MB/s]\n"
          ]
        },
        {
          "name": "stdout",
          "output_type": "stream",
          "text": [
            "Extracting ./data/MNIST/raw/train-images-idx3-ubyte.gz to ./data/MNIST/raw\n",
            "\n",
            "Downloading http://yann.lecun.com/exdb/mnist/train-labels-idx1-ubyte.gz\n",
            "Failed to download (trying next):\n",
            "HTTP Error 403: Forbidden\n",
            "\n",
            "Downloading https://ossci-datasets.s3.amazonaws.com/mnist/train-labels-idx1-ubyte.gz\n",
            "Downloading https://ossci-datasets.s3.amazonaws.com/mnist/train-labels-idx1-ubyte.gz to ./data/MNIST/raw/train-labels-idx1-ubyte.gz\n"
          ]
        },
        {
          "name": "stderr",
          "output_type": "stream",
          "text": [
            "100%|██████████| 28.9k/28.9k [00:00<00:00, 483kB/s]\n"
          ]
        },
        {
          "name": "stdout",
          "output_type": "stream",
          "text": [
            "Extracting ./data/MNIST/raw/train-labels-idx1-ubyte.gz to ./data/MNIST/raw\n",
            "\n",
            "Downloading http://yann.lecun.com/exdb/mnist/t10k-images-idx3-ubyte.gz\n",
            "Failed to download (trying next):\n",
            "HTTP Error 403: Forbidden\n",
            "\n",
            "Downloading https://ossci-datasets.s3.amazonaws.com/mnist/t10k-images-idx3-ubyte.gz\n",
            "Downloading https://ossci-datasets.s3.amazonaws.com/mnist/t10k-images-idx3-ubyte.gz to ./data/MNIST/raw/t10k-images-idx3-ubyte.gz\n"
          ]
        },
        {
          "name": "stderr",
          "output_type": "stream",
          "text": [
            "100%|██████████| 1.65M/1.65M [00:00<00:00, 4.48MB/s]\n"
          ]
        },
        {
          "name": "stdout",
          "output_type": "stream",
          "text": [
            "Extracting ./data/MNIST/raw/t10k-images-idx3-ubyte.gz to ./data/MNIST/raw\n",
            "\n",
            "Downloading http://yann.lecun.com/exdb/mnist/t10k-labels-idx1-ubyte.gz\n",
            "Failed to download (trying next):\n",
            "HTTP Error 403: Forbidden\n",
            "\n",
            "Downloading https://ossci-datasets.s3.amazonaws.com/mnist/t10k-labels-idx1-ubyte.gz\n",
            "Downloading https://ossci-datasets.s3.amazonaws.com/mnist/t10k-labels-idx1-ubyte.gz to ./data/MNIST/raw/t10k-labels-idx1-ubyte.gz\n"
          ]
        },
        {
          "name": "stderr",
          "output_type": "stream",
          "text": [
            "100%|██████████| 4.54k/4.54k [00:00<00:00, 3.38MB/s]"
          ]
        },
        {
          "name": "stdout",
          "output_type": "stream",
          "text": [
            "Extracting ./data/MNIST/raw/t10k-labels-idx1-ubyte.gz to ./data/MNIST/raw\n",
            "\n"
          ]
        },
        {
          "name": "stderr",
          "output_type": "stream",
          "text": [
            "\n"
          ]
        }
      ],
      "source": [
        "batch_size = 128\n",
        "\n",
        "transform = transforms.Compose([\n",
        "    transforms.ToTensor(), # Already scales the values to 0-1\n",
        "    transforms.Normalize((0.1307,), (0.3081,))\n",
        "])\n",
        "\n",
        "train_dataset = datasets.MNIST('./data', train=True, download=True, transform=transform)\n",
        "test_dataset = datasets.MNIST('./data', train=False, transform=transform)\n",
        "\n",
        "train_loader = DataLoader(train_dataset, batch_size=batch_size, shuffle=True)\n",
        "test_loader = DataLoader(test_dataset, batch_size=batch_size, shuffle=False)"
      ]
    },
    {
      "cell_type": "code",
      "execution_count": null,
      "metadata": {
        "colab": {
          "base_uri": "https://localhost:8080/"
        },
        "id": "08uRXivMVXgT",
        "outputId": "3b6faab1-0ce8-4340-e107-0d95d08b9487"
      },
      "outputs": [
        {
          "name": "stdout",
          "output_type": "stream",
          "text": [
            "Size of train dataset: 60000, n_batches: 469\n",
            "Size of test dataset: 10000, n_batches: 79\n"
          ]
        }
      ],
      "source": [
        "import math\n",
        "print(f\"Size of train dataset: {len(train_dataset)}, n_batches: {math.ceil(len(train_dataset)/128)}\")\n",
        "print(f\"Size of test dataset: {len(test_dataset)}, n_batches: {math.ceil(len(test_dataset)/128)}\")"
      ]
    },
    {
      "cell_type": "code",
      "execution_count": null,
      "metadata": {
        "colab": {
          "base_uri": "https://localhost:8080/",
          "height": 1000
        },
        "id": "5-cyHgw1Y_1N",
        "outputId": "0d0858ac-4e61-4124-a425-801bf4b84d21"
      },
      "outputs": [
        {
          "name": "stdout",
          "output_type": "stream",
          "text": [
            "Visualization saved as 'mnist_samples.png'\n"
          ]
        },
        {
          "data": {
            "image/png": "[encoded data removed]",
            "text/plain": [
              "<Figure size 1000x1000 with 25 Axes>"
            ]
          },
          "metadata": {},
          "output_type": "display_data"
        }
      ],
      "source": [
        "# Data visualization function\n",
        "def visualize_dataset(dataset, num_images = 25, model = None):\n",
        "    # Create a figure with a grid of subplots\n",
        "    fig = plt.figure(figsize=(10, 10))\n",
        "    rows = int(np.sqrt(num_images))\n",
        "    cols = int(np.sqrt(num_images))\n",
        "\n",
        "    # Plot random images from the dataset\n",
        "    for i in range(num_images):\n",
        "        idx = np.random.randint(len(dataset))\n",
        "        img, label = dataset[idx]\n",
        "\n",
        "        ax = fig.add_subplot(rows, cols, i + 1)\n",
        "        ax.imshow(img.squeeze().numpy(), cmap='gray')\n",
        "        if model:\n",
        "            with torch.inference_mode():\n",
        "                pred = model(img.to(device))\n",
        "            pred = torch.argmax(pred, dim = 1).item()\n",
        "            ax.set_title(f'Label: {label}, Pred: {pred}')\n",
        "        else:\n",
        "            ax.set_title(f'Label: {label}')\n",
        "        ax.axis('off')\n",
        "\n",
        "    plt.tight_layout()\n",
        "    plt.savefig('mnist_samples.png')\n",
        "\n",
        "    print(f\"Visualization saved as 'mnist_samples.png'\")\n",
        "\n",
        "visualize_dataset(train_dataset)"
      ]
    },
    {
      "cell_type": "code",
      "execution_count": null,
      "metadata": {
        "id": "2QqTVydMaDKr"
      },
      "outputs": [],
      "source": [
        "# Training function\n",
        "def train(model, train_loader, optimizer, criterion, device, epoch, print_every = 50):\n",
        "    model.train()\n",
        "    running_loss = 0.0\n",
        "    epoch_loss = 0.0\n",
        "\n",
        "    for batch_idx, (data, target) in enumerate(train_loader):\n",
        "        data, target = data.to(device), target.to(device)\n",
        "\n",
        "        optimizer.zero_grad()\n",
        "        output = model(data)\n",
        "        loss = criterion(output, target)\n",
        "        loss.backward()\n",
        "        optimizer.step()\n",
        "\n",
        "        running_loss += loss.item()\n",
        "        epoch_loss += loss.item()\n",
        "\n",
        "        if batch_idx % print_every == print_every - 1:\n",
        "            print(f'Epoch {epoch}, Batch {batch_idx+1}, Loss: {running_loss/print_every:.4f}')\n",
        "            running_loss = 0.0\n",
        "\n",
        "    return epoch_loss / len(train_loader)"
      ]
    },
    {
      "cell_type": "code",
      "execution_count": null,
      "metadata": {
        "id": "i37o5bYJaYHS"
      },
      "outputs": [],
      "source": [
        "# Testing function\n",
        "def test(model, test_loader, criterion, device):\n",
        "    model.eval()\n",
        "    test_loss = 0\n",
        "    correct = 0\n",
        "\n",
        "    with torch.no_grad():\n",
        "        for data, target in test_loader:\n",
        "            data, target = data.to(device), target.to(device)\n",
        "            output = model(data)\n",
        "            test_loss += criterion(output, target).item()\n",
        "            pred = output.argmax(dim=1, keepdim=True)\n",
        "            correct += pred.eq(target.view_as(pred)).sum().item()\n",
        "\n",
        "    test_loss /= len(test_loader)\n",
        "    accuracy = 100. * correct / len(test_loader.dataset)\n",
        "\n",
        "    print(f'\\nTest set: Average loss: {test_loss:.4f}, '\n",
        "          f'Accuracy: {correct}/{len(test_loader.dataset)} '\n",
        "          f'({accuracy:.2f}%)\\n')\n",
        "\n",
        "    return test_loss, accuracy"
      ]
    },
    {
      "cell_type": "markdown",
      "metadata": {
        "id": "8CUDXfzjVPPP"
      },
      "source": [
        "### [Saving and loading models](https://pytorch.org/tutorials/beginner/saving_loading_models.html)\n"
      ]
    },
    {
      "cell_type": "code",
      "execution_count": null,
      "metadata": {
        "id": "R7_gQ4lEah1e"
      },
      "outputs": [],
      "source": [
        "# Save checkpoint\n",
        "def save_checkpoint(model, optimizer, epoch, accuracy, filename):\n",
        "    checkpoint = {\n",
        "        'epoch': epoch,\n",
        "        'model_state_dict': model.state_dict(),\n",
        "        'optimizer_state_dict': optimizer.state_dict(),\n",
        "        'accuracy': accuracy\n",
        "    }\n",
        "    torch.save(checkpoint, filename)\n",
        "    print(f\"Checkpoint saved: {filename}\")\n",
        "\n",
        "# Load checkpoint\n",
        "def load_checkpoint(model, optimizer, filename):\n",
        "    if os.path.exists(filename):\n",
        "        checkpoint = torch.load(filename)\n",
        "        model.load_state_dict(checkpoint['model_state_dict'])\n",
        "        optimizer.load_state_dict(checkpoint['optimizer_state_dict'])\n",
        "        epoch = checkpoint['epoch']\n",
        "        accuracy = checkpoint['accuracy']\n",
        "        print(f\"Checkpoint loaded: {filename}\")\n",
        "        return epoch, accuracy\n",
        "    raise FileNotFoundError(f\"The file {filename} does not exist\")"
      ]
    },
    {
      "cell_type": "code",
      "execution_count": null,
      "metadata": {
        "colab": {
          "base_uri": "https://localhost:8080/"
        },
        "id": "BBxlO047ad9T",
        "outputId": "9e90a53f-120d-48b5-9e6f-9d016f1d1192"
      },
      "outputs": [
        {
          "name": "stdout",
          "output_type": "stream",
          "text": [
            "\n",
            "Epoch 1/5\n",
            "Epoch 0, Batch 50, Loss: 0.6463\n",
            "Epoch 0, Batch 100, Loss: 0.3090\n",
            "Epoch 0, Batch 150, Loss: 0.2330\n",
            "Epoch 0, Batch 200, Loss: 0.1783\n",
            "Epoch 0, Batch 250, Loss: 0.1790\n",
            "Epoch 0, Batch 300, Loss: 0.1577\n",
            "Epoch 0, Batch 350, Loss: 0.1481\n",
            "Epoch 0, Batch 400, Loss: 0.1390\n",
            "Epoch 0, Batch 450, Loss: 0.1248\n",
            "\n",
            "Test set: Average loss: 0.1059, Accuracy: 9666/10000 (96.66%)\n",
            "\n",
            "Checkpoint saved: checkpoints/checkpoint_epoch_0.pth\n",
            "Checkpoint saved: checkpoints/best_model.pth\n",
            "Checkpoint saved: checkpoints/latest_checkpoint.pth\n",
            "\n",
            "Epoch 2/5\n",
            "Epoch 1, Batch 50, Loss: 0.1024\n",
            "Epoch 1, Batch 100, Loss: 0.1008\n",
            "Epoch 1, Batch 150, Loss: 0.0972\n",
            "Epoch 1, Batch 200, Loss: 0.1024\n",
            "Epoch 1, Batch 250, Loss: 0.0834\n",
            "Epoch 1, Batch 300, Loss: 0.0827\n",
            "Epoch 1, Batch 350, Loss: 0.0947\n",
            "Epoch 1, Batch 400, Loss: 0.0738\n",
            "Epoch 1, Batch 450, Loss: 0.0767\n",
            "\n",
            "Test set: Average loss: 0.0798, Accuracy: 9757/10000 (97.57%)\n",
            "\n",
            "Checkpoint saved: checkpoints/checkpoint_epoch_1.pth\n",
            "Checkpoint saved: checkpoints/best_model.pth\n",
            "Checkpoint saved: checkpoints/latest_checkpoint.pth\n",
            "\n",
            "Epoch 3/5\n",
            "Epoch 2, Batch 50, Loss: 0.0559\n",
            "Epoch 2, Batch 100, Loss: 0.0551\n",
            "Epoch 2, Batch 150, Loss: 0.0539\n",
            "Epoch 2, Batch 200, Loss: 0.0573\n",
            "Epoch 2, Batch 250, Loss: 0.0610\n",
            "Epoch 2, Batch 300, Loss: 0.0661\n",
            "Epoch 2, Batch 350, Loss: 0.0563\n",
            "Epoch 2, Batch 400, Loss: 0.0721\n",
            "Epoch 2, Batch 450, Loss: 0.0662\n",
            "\n",
            "Test set: Average loss: 0.0661, Accuracy: 9783/10000 (97.83%)\n",
            "\n",
            "Checkpoint saved: checkpoints/checkpoint_epoch_2.pth\n",
            "Checkpoint saved: checkpoints/best_model.pth\n",
            "Checkpoint saved: checkpoints/latest_checkpoint.pth\n",
            "\n",
            "Epoch 4/5\n",
            "Epoch 3, Batch 50, Loss: 0.0448\n",
            "Epoch 3, Batch 100, Loss: 0.0376\n",
            "Epoch 3, Batch 150, Loss: 0.0378\n",
            "Epoch 3, Batch 200, Loss: 0.0496\n",
            "Epoch 3, Batch 250, Loss: 0.0358\n",
            "Epoch 3, Batch 300, Loss: 0.0416\n",
            "Epoch 3, Batch 350, Loss: 0.0447\n",
            "Epoch 3, Batch 400, Loss: 0.0492\n",
            "Epoch 3, Batch 450, Loss: 0.0450\n",
            "\n",
            "Test set: Average loss: 0.0668, Accuracy: 9782/10000 (97.82%)\n",
            "\n",
            "Checkpoint saved: checkpoints/checkpoint_epoch_3.pth\n",
            "Checkpoint saved: checkpoints/latest_checkpoint.pth\n",
            "\n",
            "Epoch 5/5\n",
            "Epoch 4, Batch 50, Loss: 0.0340\n",
            "Epoch 4, Batch 100, Loss: 0.0235\n",
            "Epoch 4, Batch 150, Loss: 0.0377\n",
            "Epoch 4, Batch 200, Loss: 0.0291\n",
            "Epoch 4, Batch 250, Loss: 0.0420\n",
            "Epoch 4, Batch 300, Loss: 0.0380\n",
            "Epoch 4, Batch 350, Loss: 0.0434\n",
            "Epoch 4, Batch 400, Loss: 0.0314\n",
            "Epoch 4, Batch 450, Loss: 0.0337\n",
            "\n",
            "Test set: Average loss: 0.0671, Accuracy: 9791/10000 (97.91%)\n",
            "\n",
            "Checkpoint saved: checkpoints/checkpoint_epoch_4.pth\n",
            "Checkpoint saved: checkpoints/best_model.pth\n",
            "Checkpoint saved: checkpoints/latest_checkpoint.pth\n"
          ]
        }
      ],
      "source": [
        "# Lists to store training history\n",
        "train_losses = []\n",
        "val_accuracies = []\n",
        "test_losses = []\n",
        "\n",
        "n_epochs = 5\n",
        "best_accuracy = 0\n",
        "\n",
        "# Training loop\n",
        "for epoch in range(n_epochs):\n",
        "    print(f'\\nEpoch {epoch+1}/{n_epochs}')\n",
        "    epoch_loss = train(model, train_loader, optimizer, criterion, device, epoch)\n",
        "    test_loss, accuracy = test(model, test_loader, criterion, device)\n",
        "\n",
        "    # Store training history\n",
        "    train_losses.append(epoch_loss)\n",
        "    test_losses.append(test_loss)\n",
        "    val_accuracies.append(accuracy)\n",
        "\n",
        "    # Save checkpoint\n",
        "    save_checkpoint(\n",
        "        model, optimizer, epoch, accuracy,\n",
        "        f'{checkpoint_dir}/checkpoint_epoch_{epoch}.pth'\n",
        "    )\n",
        "\n",
        "    # Save best model\n",
        "    if accuracy > best_accuracy:\n",
        "        best_accuracy = accuracy\n",
        "        save_checkpoint(\n",
        "            model, optimizer, epoch, accuracy,\n",
        "            f'{checkpoint_dir}/best_model.pth'\n",
        "        )\n",
        "\n",
        "    # Save latest checkpoint (for resuming training)\n",
        "    save_checkpoint(\n",
        "        model, optimizer, epoch, accuracy,\n",
        "        f'{checkpoint_dir}/latest_checkpoint.pth'\n",
        "    )\n"
      ]
    },
    {
      "cell_type": "code",
      "execution_count": null,
      "metadata": {
        "colab": {
          "base_uri": "https://localhost:8080/",
          "height": 1000
        },
        "id": "l8YrE0ScbN8l",
        "outputId": "31a28831-3fb0-4ad4-b2f0-521ef0ab1486"
      },
      "outputs": [
        {
          "name": "stdout",
          "output_type": "stream",
          "text": [
            "Visualization saved as 'mnist_samples.png'\n"
          ]
        },
        {
          "data": {
            "image/png": "[encoded data removed]",
            "text/plain": [
              "<Figure size 1000x1000 with 25 Axes>"
            ]
          },
          "metadata": {},
          "output_type": "display_data"
        }
      ],
      "source": [
        "visualize_dataset(train_dataset, model = model)"
      ]
    },
    {
      "cell_type": "markdown",
      "metadata": {
        "id": "IBbvoQ3fq7ag"
      },
      "source": [
        "Visualizing neural networks: https://playground.tensorflow.org/"
      ]
    },
    {
      "cell_type": "markdown",
      "metadata": {
        "id": "L5Qau61vKojF"
      },
      "source": [
        "### Let's come back to the california housing dataset now (Exercise)"
      ]
    },
    {
      "cell_type": "markdown",
      "metadata": {
        "id": "1DG3KwmVKsmm"
      },
      "source": [
        "Defining the model:"
      ]
    },
    {
      "cell_type": "code",
      "execution_count": null,
      "metadata": {
        "id": "z99DupsKaQ8I"
      },
      "outputs": [],
      "source": [
        "class HousingNet(nn.Module):\n",
        "    def __init__(self):\n",
        "        super(HousingNet, self).__init__()\n",
        "        # Define the layers of the neural network\n",
        "\n",
        "    def forward(self, x):\n",
        "        # Define the forward pass of the neural network"
      ]
    },
    {
      "cell_type": "markdown",
      "metadata": {
        "id": "SCxhBVOnc0h0"
      },
      "source": [
        "[Creating our own pytorch dataset](https://pytorch.org/tutorials/beginner/basics/data_tutorial.html)"
      ]
    },
    {
      "cell_type": "code",
      "execution_count": null,
      "metadata": {
        "id": "Y5kl3SnMc548"
      },
      "outputs": [],
      "source": [
        "from torch.utils.data import Dataset\n",
        "\n",
        "class HousingDataset(Dataset):\n",
        "    def __init__(self, data, target):\n",
        "        self.data = data\n",
        "        self.target = target\n",
        "\n",
        "    def __len__(self):\n",
        "        return len(self.data)\n",
        "\n",
        "    def __getitem__(self, idx):\n",
        "        return self.data[idx], self.target[idx]"
      ]
    },
    {
      "cell_type": "markdown",
      "metadata": {
        "id": "wZL9iHY1KvQZ"
      },
      "source": [
        "Training loop"
      ]
    },
    {
      "cell_type": "code",
      "execution_count": null,
      "metadata": {
        "id": "riRtNsrCdm9g"
      },
      "outputs": [],
      "source": [
        "n_epochs = 1000\n",
        "train_losses = []\n",
        "val_losses = []\n",
        "\n",
        "model = HousingNet().to(device)\n",
        "criterion = nn.MSELoss()\n",
        "learning_rate = 0.001\n",
        "optimizer = torch.optim.Adam(params = model.parameters(), lr = learning_rate)\n",
        "\n",
        "train_dataset = HousingDataset(X_train_scaled, y_train_scaled)\n",
        "test_dataset = HousingDataset(X_test_scaled, y_test_scaled)\n",
        "\n",
        "batch_size = 128\n",
        "\n",
        "train_loader = DataLoader(train_dataset, batch_size=batch_size, shuffle=True)\n",
        "test_loader = DataLoader(test_dataset, batch_size=batch_size, shuffle=False)"
      ]
    },
    {
      "cell_type": "code",
      "execution_count": null,
      "metadata": {
        "colab": {
          "base_uri": "https://localhost:8080/",
          "height": 106
        },
        "id": "uk-wUuLOdnMO",
        "outputId": "ebd44ac2-2f7d-4abb-bf4c-743b93ed9c2f"
      },
      "outputs": [
        {
          "ename": "SyntaxError",
          "evalue": "invalid syntax (<ipython-input-42-3fdb997fa7df>, line 9)",
          "output_type": "error",
          "traceback": [
            "\u001b[0;36m  File \u001b[0;32m\"<ipython-input-42-3fdb997fa7df>\"\u001b[0;36m, line \u001b[0;32m9\u001b[0m\n\u001b[0;31m    y_pred =\u001b[0m\n\u001b[0m            ^\u001b[0m\n\u001b[0;31mSyntaxError\u001b[0m\u001b[0;31m:\u001b[0m invalid syntax\n"
          ]
        }
      ],
      "source": [
        "for epoch in range(n_epochs):\n",
        "    # Training phase\n",
        "    model.train()\n",
        "    train_loss = 0\n",
        "    for X_batch, y_batch in train_loader:\n",
        "        # Forward pass\n",
        "        X_batch = X_batch.to(device)\n",
        "        y_batch = y_batch.to(device)\n",
        "        y_pred =\n",
        "        loss =\n",
        "\n",
        "        # Backward pass\n",
        "\n",
        "\n",
        "        train_loss += loss.item()\n",
        "\n",
        "    # Calculate average training loss for the epoch\n",
        "    train_loss = train_loss / len(train_loader)\n",
        "    train_losses.append(train_loss)\n",
        "\n",
        "    # Validation phase\n",
        "    model.eval()\n",
        "    val_loss = 0\n",
        "    with torch.no_grad():\n",
        "        for X_batch, y_batch in test_loader:\n",
        "            X_batch = X_batch.to(device)\n",
        "            y_batch = y_batch.to(device)\n",
        "            y_pred =\n",
        "            val_loss +=\n",
        "\n",
        "    val_loss = val_loss / len(test_loader)\n",
        "    val_losses.append(val_loss)\n",
        "\n",
        "    # Print progress\n",
        "    if (epoch + 1) % 100 == 0:  # Print every 10 epochs\n",
        "        print(f'Epoch [{epoch+1}/{n_epochs}], '\n",
        "              f'Train Loss: {train_loss:.4f}, '\n",
        "              f'Val Loss: {val_loss:.4f}')\n",
        "\n",
        "print('Training finished!')"
      ]
    },
    {
      "cell_type": "code",
      "execution_count": null,
      "metadata": {
        "id": "zquive6tf63V"
      },
      "outputs": [],
      "source": []
    }
  ],
  "metadata": {
    "accelerator": "GPU",
    "colab": {
      "gpuType": "T4",
      "provenance": [],
      "include_colab_link": true
    },
    "kernelspec": {
      "display_name": "Python 3",
      "name": "python3"
    },
    "language_info": {
      "name": "python"
    }
  },
  "nbformat": 4,
  "nbformat_minor": 0
}