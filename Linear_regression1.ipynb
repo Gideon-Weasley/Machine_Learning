{
  "nbformat": 4,
  "nbformat_minor": 0,
  "metadata": {
    "colab": {
      "provenance": [],
      "authorship_tag": "ABX9TyNKicWoVEMHsIcb4iEWZIXx",
      "include_colab_link": true
    },
    "kernelspec": {
      "name": "python3",
      "display_name": "Python 3"
    },
    "language_info": {
      "name": "python"
    }
  },
  "cells": [
    {
      "cell_type": "markdown",
      "metadata": {
        "id": "view-in-github",
        "colab_type": "text"
      },
      "source": [
        "<a href=\"https://colab.research.google.com/github/Gideon-Weasley/Machine_Learning/blob/main/Linear_regression1.ipynb\" target=\"_parent\"><img src=\"https://colab.research.google.com/assets/colab-badge.svg\" alt=\"Open In Colab\"/></a>"
      ]
    },
    {
      "cell_type": "markdown",
      "source": [
        "# Linear regresiion without using neural networks"
      ],
      "metadata": {
        "id": "RgZNzk1XNgon"
      }
    },
    {
      "cell_type": "markdown",
      "source": [
        "# Closed form\n"
      ],
      "metadata": {
        "id": "dGuWhFvTWdAR"
      }
    },
    {
      "cell_type": "code",
      "source": [
        "import numpy as np\n",
        "import pandas as pd"
      ],
      "metadata": {
        "id": "zNcwOXqTNtFJ"
      },
      "execution_count": 2,
      "outputs": []
    },
    {
      "cell_type": "code",
      "source": [
        "#loading the dataset\n",
        "from google.colab import files\n",
        "uploaded = files.upload()"
      ],
      "metadata": {
        "colab": {
          "base_uri": "https://localhost:8080/",
          "height": 73
        },
        "id": "fLl6chtMYSnN",
        "outputId": "8ca88d7d-e692-4f3c-8678-69b0fe40edd8"
      },
      "execution_count": 3,
      "outputs": [
        {
          "output_type": "display_data",
          "data": {
            "text/plain": [
              "<IPython.core.display.HTML object>"
            ],
            "text/html": [
              "\n",
              "     <input type=\"file\" id=\"files-ffcaff65-2f0a-4e56-9332-2f71f5c2b0e3\" name=\"files[]\" multiple disabled\n",
              "        style=\"border:none\" />\n",
              "     <output id=\"result-ffcaff65-2f0a-4e56-9332-2f71f5c2b0e3\">\n",
              "      Upload widget is only available when the cell has been executed in the\n",
              "      current browser session. Please rerun this cell to enable.\n",
              "      </output>\n",
              "      <script>// Copyright 2017 Google LLC\n",
              "//\n",
              "// Licensed under the Apache License, Version 2.0 (the \"License\");\n",
              "// you may not use this file except in compliance with the License.\n",
              "// You may obtain a copy of the License at\n",
              "//\n",
              "//      http://www.apache.org/licenses/LICENSE-2.0\n",
              "//\n",
              "// Unless required by applicable law or agreed to in writing, software\n",
              "// distributed under the License is distributed on an \"AS IS\" BASIS,\n",
              "// WITHOUT WARRANTIES OR CONDITIONS OF ANY KIND, either express or implied.\n",
              "// See the License for the specific language governing permissions and\n",
              "// limitations under the License.\n",
              "\n",
              "/**\n",
              " * @fileoverview Helpers for google.colab Python module.\n",
              " */\n",
              "(function(scope) {\n",
              "function span(text, styleAttributes = {}) {\n",
              "  const element = document.createElement('span');\n",
              "  element.textContent = text;\n",
              "  for (const key of Object.keys(styleAttributes)) {\n",
              "    element.style[key] = styleAttributes[key];\n",
              "  }\n",
              "  return element;\n",
              "}\n",
              "\n",
              "// Max number of bytes which will be uploaded at a time.\n",
              "const MAX_PAYLOAD_SIZE = 100 * 1024;\n",
              "\n",
              "function _uploadFiles(inputId, outputId) {\n",
              "  const steps = uploadFilesStep(inputId, outputId);\n",
              "  const outputElement = document.getElementById(outputId);\n",
              "  // Cache steps on the outputElement to make it available for the next call\n",
              "  // to uploadFilesContinue from Python.\n",
              "  outputElement.steps = steps;\n",
              "\n",
              "  return _uploadFilesContinue(outputId);\n",
              "}\n",
              "\n",
              "// This is roughly an async generator (not supported in the browser yet),\n",
              "// where there are multiple asynchronous steps and the Python side is going\n",
              "// to poll for completion of each step.\n",
              "// This uses a Promise to block the python side on completion of each step,\n",
              "// then passes the result of the previous step as the input to the next step.\n",
              "function _uploadFilesContinue(outputId) {\n",
              "  const outputElement = document.getElementById(outputId);\n",
              "  const steps = outputElement.steps;\n",
              "\n",
              "  const next = steps.next(outputElement.lastPromiseValue);\n",
              "  return Promise.resolve(next.value.promise).then((value) => {\n",
              "    // Cache the last promise value to make it available to the next\n",
              "    // step of the generator.\n",
              "    outputElement.lastPromiseValue = value;\n",
              "    return next.value.response;\n",
              "  });\n",
              "}\n",
              "\n",
              "/**\n",
              " * Generator function which is called between each async step of the upload\n",
              " * process.\n",
              " * @param {string} inputId Element ID of the input file picker element.\n",
              " * @param {string} outputId Element ID of the output display.\n",
              " * @return {!Iterable<!Object>} Iterable of next steps.\n",
              " */\n",
              "function* uploadFilesStep(inputId, outputId) {\n",
              "  const inputElement = document.getElementById(inputId);\n",
              "  inputElement.disabled = false;\n",
              "\n",
              "  const outputElement = document.getElementById(outputId);\n",
              "  outputElement.innerHTML = '';\n",
              "\n",
              "  const pickedPromise = new Promise((resolve) => {\n",
              "    inputElement.addEventListener('change', (e) => {\n",
              "      resolve(e.target.files);\n",
              "    });\n",
              "  });\n",
              "\n",
              "  const cancel = document.createElement('button');\n",
              "  inputElement.parentElement.appendChild(cancel);\n",
              "  cancel.textContent = 'Cancel upload';\n",
              "  const cancelPromise = new Promise((resolve) => {\n",
              "    cancel.onclick = () => {\n",
              "      resolve(null);\n",
              "    };\n",
              "  });\n",
              "\n",
              "  // Wait for the user to pick the files.\n",
              "  const files = yield {\n",
              "    promise: Promise.race([pickedPromise, cancelPromise]),\n",
              "    response: {\n",
              "      action: 'starting',\n",
              "    }\n",
              "  };\n",
              "\n",
              "  cancel.remove();\n",
              "\n",
              "  // Disable the input element since further picks are not allowed.\n",
              "  inputElement.disabled = true;\n",
              "\n",
              "  if (!files) {\n",
              "    return {\n",
              "      response: {\n",
              "        action: 'complete',\n",
              "      }\n",
              "    };\n",
              "  }\n",
              "\n",
              "  for (const file of files) {\n",
              "    const li = document.createElement('li');\n",
              "    li.append(span(file.name, {fontWeight: 'bold'}));\n",
              "    li.append(span(\n",
              "        `(${file.type || 'n/a'}) - ${file.size} bytes, ` +\n",
              "        `last modified: ${\n",
              "            file.lastModifiedDate ? file.lastModifiedDate.toLocaleDateString() :\n",
              "                                    'n/a'} - `));\n",
              "    const percent = span('0% done');\n",
              "    li.appendChild(percent);\n",
              "\n",
              "    outputElement.appendChild(li);\n",
              "\n",
              "    const fileDataPromise = new Promise((resolve) => {\n",
              "      const reader = new FileReader();\n",
              "      reader.onload = (e) => {\n",
              "        resolve(e.target.result);\n",
              "      };\n",
              "      reader.readAsArrayBuffer(file);\n",
              "    });\n",
              "    // Wait for the data to be ready.\n",
              "    let fileData = yield {\n",
              "      promise: fileDataPromise,\n",
              "      response: {\n",
              "        action: 'continue',\n",
              "      }\n",
              "    };\n",
              "\n",
              "    // Use a chunked sending to avoid message size limits. See b/62115660.\n",
              "    let position = 0;\n",
              "    do {\n",
              "      const length = Math.min(fileData.byteLength - position, MAX_PAYLOAD_SIZE);\n",
              "      const chunk = new Uint8Array(fileData, position, length);\n",
              "      position += length;\n",
              "\n",
              "      const base64 = btoa(String.fromCharCode.apply(null, chunk));\n",
              "      yield {\n",
              "        response: {\n",
              "          action: 'append',\n",
              "          file: file.name,\n",
              "          data: base64,\n",
              "        },\n",
              "      };\n",
              "\n",
              "      let percentDone = fileData.byteLength === 0 ?\n",
              "          100 :\n",
              "          Math.round((position / fileData.byteLength) * 100);\n",
              "      percent.textContent = `${percentDone}% done`;\n",
              "\n",
              "    } while (position < fileData.byteLength);\n",
              "  }\n",
              "\n",
              "  // All done.\n",
              "  yield {\n",
              "    response: {\n",
              "      action: 'complete',\n",
              "    }\n",
              "  };\n",
              "}\n",
              "\n",
              "scope.google = scope.google || {};\n",
              "scope.google.colab = scope.google.colab || {};\n",
              "scope.google.colab._files = {\n",
              "  _uploadFiles,\n",
              "  _uploadFilesContinue,\n",
              "};\n",
              "})(self);\n",
              "</script> "
            ]
          },
          "metadata": {}
        },
        {
          "output_type": "stream",
          "name": "stdout",
          "text": [
            "Saving Advertising.csv to Advertising.csv\n"
          ]
        }
      ]
    },
    {
      "cell_type": "markdown",
      "source": [
        "https://www.kaggle.com/datasets/bumba5341/advertisingcsv?resource=download"
      ],
      "metadata": {
        "id": "kVjVT45j-0xp"
      }
    },
    {
      "cell_type": "code",
      "source": [
        "#loading the data into pandas\n",
        "df=pd.read_csv('Advertising.csv')\n",
        "df.head()  #by deafault 5"
      ],
      "metadata": {
        "colab": {
          "base_uri": "https://localhost:8080/",
          "height": 206
        },
        "id": "hQrftgFmYV8h",
        "outputId": "6f1e000d-d0d4-4f07-f4b5-e9e3132fc517"
      },
      "execution_count": 24,
      "outputs": [
        {
          "output_type": "execute_result",
          "data": {
            "text/plain": [
              "   Unnamed: 0     TV  Radio  Newspaper  Sales\n",
              "0           1  230.1   37.8       69.2   22.1\n",
              "1           2   44.5   39.3       45.1   10.4\n",
              "2           3   17.2   45.9       69.3    9.3\n",
              "3           4  151.5   41.3       58.5   18.5\n",
              "4           5  180.8   10.8       58.4   12.9"
            ],
            "text/html": [
              "\n",
              "  <div id=\"df-848a20cd-c36e-4bab-a67a-62530ae41e33\" class=\"colab-df-container\">\n",
              "    <div>\n",
              "<style scoped>\n",
              "    .dataframe tbody tr th:only-of-type {\n",
              "        vertical-align: middle;\n",
              "    }\n",
              "\n",
              "    .dataframe tbody tr th {\n",
              "        vertical-align: top;\n",
              "    }\n",
              "\n",
              "    .dataframe thead th {\n",
              "        text-align: right;\n",
              "    }\n",
              "</style>\n",
              "<table border=\"1\" class=\"dataframe\">\n",
              "  <thead>\n",
              "    <tr style=\"text-align: right;\">\n",
              "      <th></th>\n",
              "      <th>Unnamed: 0</th>\n",
              "      <th>TV</th>\n",
              "      <th>Radio</th>\n",
              "      <th>Newspaper</th>\n",
              "      <th>Sales</th>\n",
              "    </tr>\n",
              "  </thead>\n",
              "  <tbody>\n",
              "    <tr>\n",
              "      <th>0</th>\n",
              "      <td>1</td>\n",
              "      <td>230.1</td>\n",
              "      <td>37.8</td>\n",
              "      <td>69.2</td>\n",
              "      <td>22.1</td>\n",
              "    </tr>\n",
              "    <tr>\n",
              "      <th>1</th>\n",
              "      <td>2</td>\n",
              "      <td>44.5</td>\n",
              "      <td>39.3</td>\n",
              "      <td>45.1</td>\n",
              "      <td>10.4</td>\n",
              "    </tr>\n",
              "    <tr>\n",
              "      <th>2</th>\n",
              "      <td>3</td>\n",
              "      <td>17.2</td>\n",
              "      <td>45.9</td>\n",
              "      <td>69.3</td>\n",
              "      <td>9.3</td>\n",
              "    </tr>\n",
              "    <tr>\n",
              "      <th>3</th>\n",
              "      <td>4</td>\n",
              "      <td>151.5</td>\n",
              "      <td>41.3</td>\n",
              "      <td>58.5</td>\n",
              "      <td>18.5</td>\n",
              "    </tr>\n",
              "    <tr>\n",
              "      <th>4</th>\n",
              "      <td>5</td>\n",
              "      <td>180.8</td>\n",
              "      <td>10.8</td>\n",
              "      <td>58.4</td>\n",
              "      <td>12.9</td>\n",
              "    </tr>\n",
              "  </tbody>\n",
              "</table>\n",
              "</div>\n",
              "    <div class=\"colab-df-buttons\">\n",
              "\n",
              "  <div class=\"colab-df-container\">\n",
              "    <button class=\"colab-df-convert\" onclick=\"convertToInteractive('df-848a20cd-c36e-4bab-a67a-62530ae41e33')\"\n",
              "            title=\"Convert this dataframe to an interactive table.\"\n",
              "            style=\"display:none;\">\n",
              "\n",
              "  <svg xmlns=\"http://www.w3.org/2000/svg\" height=\"24px\" viewBox=\"0 -960 960 960\">\n",
              "    <path d=\"M120-120v-720h720v720H120Zm60-500h600v-160H180v160Zm220 220h160v-160H400v160Zm0 220h160v-160H400v160ZM180-400h160v-160H180v160Zm440 0h160v-160H620v160ZM180-180h160v-160H180v160Zm440 0h160v-160H620v160Z\"/>\n",
              "  </svg>\n",
              "    </button>\n",
              "\n",
              "  <style>\n",
              "    .colab-df-container {\n",
              "      display:flex;\n",
              "      gap: 12px;\n",
              "    }\n",
              "\n",
              "    .colab-df-convert {\n",
              "      background-color: #E8F0FE;\n",
              "      border: none;\n",
              "      border-radius: 50%;\n",
              "      cursor: pointer;\n",
              "      display: none;\n",
              "      fill: #1967D2;\n",
              "      height: 32px;\n",
              "      padding: 0 0 0 0;\n",
              "      width: 32px;\n",
              "    }\n",
              "\n",
              "    .colab-df-convert:hover {\n",
              "      background-color: #E2EBFA;\n",
              "      box-shadow: 0px 1px 2px rgba(60, 64, 67, 0.3), 0px 1px 3px 1px rgba(60, 64, 67, 0.15);\n",
              "      fill: #174EA6;\n",
              "    }\n",
              "\n",
              "    .colab-df-buttons div {\n",
              "      margin-bottom: 4px;\n",
              "    }\n",
              "\n",
              "    [theme=dark] .colab-df-convert {\n",
              "      background-color: #3B4455;\n",
              "      fill: #D2E3FC;\n",
              "    }\n",
              "\n",
              "    [theme=dark] .colab-df-convert:hover {\n",
              "      background-color: #434B5C;\n",
              "      box-shadow: 0px 1px 3px 1px rgba(0, 0, 0, 0.15);\n",
              "      filter: drop-shadow(0px 1px 2px rgba(0, 0, 0, 0.3));\n",
              "      fill: #FFFFFF;\n",
              "    }\n",
              "  </style>\n",
              "\n",
              "    <script>\n",
              "      const buttonEl =\n",
              "        document.querySelector('#df-848a20cd-c36e-4bab-a67a-62530ae41e33 button.colab-df-convert');\n",
              "      buttonEl.style.display =\n",
              "        google.colab.kernel.accessAllowed ? 'block' : 'none';\n",
              "\n",
              "      async function convertToInteractive(key) {\n",
              "        const element = document.querySelector('#df-848a20cd-c36e-4bab-a67a-62530ae41e33');\n",
              "        const dataTable =\n",
              "          await google.colab.kernel.invokeFunction('convertToInteractive',\n",
              "                                                    [key], {});\n",
              "        if (!dataTable) return;\n",
              "\n",
              "        const docLinkHtml = 'Like what you see? Visit the ' +\n",
              "          '<a target=\"_blank\" href=https://colab.research.google.com/notebooks/data_table.ipynb>data table notebook</a>'\n",
              "          + ' to learn more about interactive tables.';\n",
              "        element.innerHTML = '';\n",
              "        dataTable['output_type'] = 'display_data';\n",
              "        await google.colab.output.renderOutput(dataTable, element);\n",
              "        const docLink = document.createElement('div');\n",
              "        docLink.innerHTML = docLinkHtml;\n",
              "        element.appendChild(docLink);\n",
              "      }\n",
              "    </script>\n",
              "  </div>\n",
              "\n",
              "\n",
              "<div id=\"df-96bd7407-e85f-4801-a1af-4d024beb74aa\">\n",
              "  <button class=\"colab-df-quickchart\" onclick=\"quickchart('df-96bd7407-e85f-4801-a1af-4d024beb74aa')\"\n",
              "            title=\"Suggest charts\"\n",
              "            style=\"display:none;\">\n",
              "\n",
              "<svg xmlns=\"http://www.w3.org/2000/svg\" height=\"24px\"viewBox=\"0 0 24 24\"\n",
              "     width=\"24px\">\n",
              "    <g>\n",
              "        <path d=\"M19 3H5c-1.1 0-2 .9-2 2v14c0 1.1.9 2 2 2h14c1.1 0 2-.9 2-2V5c0-1.1-.9-2-2-2zM9 17H7v-7h2v7zm4 0h-2V7h2v10zm4 0h-2v-4h2v4z\"/>\n",
              "    </g>\n",
              "</svg>\n",
              "  </button>\n",
              "\n",
              "<style>\n",
              "  .colab-df-quickchart {\n",
              "      --bg-color: #E8F0FE;\n",
              "      --fill-color: #1967D2;\n",
              "      --hover-bg-color: #E2EBFA;\n",
              "      --hover-fill-color: #174EA6;\n",
              "      --disabled-fill-color: #AAA;\n",
              "      --disabled-bg-color: #DDD;\n",
              "  }\n",
              "\n",
              "  [theme=dark] .colab-df-quickchart {\n",
              "      --bg-color: #3B4455;\n",
              "      --fill-color: #D2E3FC;\n",
              "      --hover-bg-color: #434B5C;\n",
              "      --hover-fill-color: #FFFFFF;\n",
              "      --disabled-bg-color: #3B4455;\n",
              "      --disabled-fill-color: #666;\n",
              "  }\n",
              "\n",
              "  .colab-df-quickchart {\n",
              "    background-color: var(--bg-color);\n",
              "    border: none;\n",
              "    border-radius: 50%;\n",
              "    cursor: pointer;\n",
              "    display: none;\n",
              "    fill: var(--fill-color);\n",
              "    height: 32px;\n",
              "    padding: 0;\n",
              "    width: 32px;\n",
              "  }\n",
              "\n",
              "  .colab-df-quickchart:hover {\n",
              "    background-color: var(--hover-bg-color);\n",
              "    box-shadow: 0 1px 2px rgba(60, 64, 67, 0.3), 0 1px 3px 1px rgba(60, 64, 67, 0.15);\n",
              "    fill: var(--button-hover-fill-color);\n",
              "  }\n",
              "\n",
              "  .colab-df-quickchart-complete:disabled,\n",
              "  .colab-df-quickchart-complete:disabled:hover {\n",
              "    background-color: var(--disabled-bg-color);\n",
              "    fill: var(--disabled-fill-color);\n",
              "    box-shadow: none;\n",
              "  }\n",
              "\n",
              "  .colab-df-spinner {\n",
              "    border: 2px solid var(--fill-color);\n",
              "    border-color: transparent;\n",
              "    border-bottom-color: var(--fill-color);\n",
              "    animation:\n",
              "      spin 1s steps(1) infinite;\n",
              "  }\n",
              "\n",
              "  @keyframes spin {\n",
              "    0% {\n",
              "      border-color: transparent;\n",
              "      border-bottom-color: var(--fill-color);\n",
              "      border-left-color: var(--fill-color);\n",
              "    }\n",
              "    20% {\n",
              "      border-color: transparent;\n",
              "      border-left-color: var(--fill-color);\n",
              "      border-top-color: var(--fill-color);\n",
              "    }\n",
              "    30% {\n",
              "      border-color: transparent;\n",
              "      border-left-color: var(--fill-color);\n",
              "      border-top-color: var(--fill-color);\n",
              "      border-right-color: var(--fill-color);\n",
              "    }\n",
              "    40% {\n",
              "      border-color: transparent;\n",
              "      border-right-color: var(--fill-color);\n",
              "      border-top-color: var(--fill-color);\n",
              "    }\n",
              "    60% {\n",
              "      border-color: transparent;\n",
              "      border-right-color: var(--fill-color);\n",
              "    }\n",
              "    80% {\n",
              "      border-color: transparent;\n",
              "      border-right-color: var(--fill-color);\n",
              "      border-bottom-color: var(--fill-color);\n",
              "    }\n",
              "    90% {\n",
              "      border-color: transparent;\n",
              "      border-bottom-color: var(--fill-color);\n",
              "    }\n",
              "  }\n",
              "</style>\n",
              "\n",
              "  <script>\n",
              "    async function quickchart(key) {\n",
              "      const quickchartButtonEl =\n",
              "        document.querySelector('#' + key + ' button');\n",
              "      quickchartButtonEl.disabled = true;  // To prevent multiple clicks.\n",
              "      quickchartButtonEl.classList.add('colab-df-spinner');\n",
              "      try {\n",
              "        const charts = await google.colab.kernel.invokeFunction(\n",
              "            'suggestCharts', [key], {});\n",
              "      } catch (error) {\n",
              "        console.error('Error during call to suggestCharts:', error);\n",
              "      }\n",
              "      quickchartButtonEl.classList.remove('colab-df-spinner');\n",
              "      quickchartButtonEl.classList.add('colab-df-quickchart-complete');\n",
              "    }\n",
              "    (() => {\n",
              "      let quickchartButtonEl =\n",
              "        document.querySelector('#df-96bd7407-e85f-4801-a1af-4d024beb74aa button');\n",
              "      quickchartButtonEl.style.display =\n",
              "        google.colab.kernel.accessAllowed ? 'block' : 'none';\n",
              "    })();\n",
              "  </script>\n",
              "</div>\n",
              "\n",
              "    </div>\n",
              "  </div>\n"
            ],
            "application/vnd.google.colaboratory.intrinsic+json": {
              "type": "dataframe",
              "variable_name": "df",
              "summary": "{\n  \"name\": \"df\",\n  \"rows\": 200,\n  \"fields\": [\n    {\n      \"column\": \"Unnamed: 0\",\n      \"properties\": {\n        \"dtype\": \"number\",\n        \"std\": 57,\n        \"min\": 1,\n        \"max\": 200,\n        \"num_unique_values\": 200,\n        \"samples\": [\n          96,\n          16,\n          31\n        ],\n        \"semantic_type\": \"\",\n        \"description\": \"\"\n      }\n    },\n    {\n      \"column\": \"TV\",\n      \"properties\": {\n        \"dtype\": \"number\",\n        \"std\": 85.8542363149081,\n        \"min\": 0.7,\n        \"max\": 296.4,\n        \"num_unique_values\": 190,\n        \"samples\": [\n          287.6,\n          286.0,\n          78.2\n        ],\n        \"semantic_type\": \"\",\n        \"description\": \"\"\n      }\n    },\n    {\n      \"column\": \"Radio\",\n      \"properties\": {\n        \"dtype\": \"number\",\n        \"std\": 14.846809176168723,\n        \"min\": 0.0,\n        \"max\": 49.6,\n        \"num_unique_values\": 167,\n        \"samples\": [\n          8.2,\n          36.9,\n          44.5\n        ],\n        \"semantic_type\": \"\",\n        \"description\": \"\"\n      }\n    },\n    {\n      \"column\": \"Newspaper\",\n      \"properties\": {\n        \"dtype\": \"number\",\n        \"std\": 21.778620838522833,\n        \"min\": 0.3,\n        \"max\": 114.0,\n        \"num_unique_values\": 172,\n        \"samples\": [\n          22.3,\n          5.7,\n          17.0\n        ],\n        \"semantic_type\": \"\",\n        \"description\": \"\"\n      }\n    },\n    {\n      \"column\": \"Sales\",\n      \"properties\": {\n        \"dtype\": \"number\",\n        \"std\": 5.217456565710477,\n        \"min\": 1.6,\n        \"max\": 27.0,\n        \"num_unique_values\": 121,\n        \"samples\": [\n          11.4,\n          21.2,\n          12.9\n        ],\n        \"semantic_type\": \"\",\n        \"description\": \"\"\n      }\n    }\n  ]\n}"
            }
          },
          "metadata": {},
          "execution_count": 24
        }
      ]
    },
    {
      "cell_type": "code",
      "source": [
        "X= df[['TV']]  # Only using the TV data\n",
        "Y=df[['Sales']]"
      ],
      "metadata": {
        "id": "lUKNI8LIY9Gd"
      },
      "execution_count": 25,
      "outputs": []
    },
    {
      "cell_type": "markdown",
      "source": [
        "X = df['TV']  # single column (Series)\n",
        "\n",
        "X = df[['TV']]  # single column (DataFrame)\n",
        "\n",
        "X = df[['TV', 'Radio']]  # multiple columns\n"
      ],
      "metadata": {
        "id": "F_wrVjWrZwGR"
      }
    },
    {
      "cell_type": "markdown",
      "source": [
        "Closed form equation\n",
        "![image.png](data:image/png;base64,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)"
      ],
      "metadata": {
        "id": "DcOWUpI-bglB"
      }
    },
    {
      "cell_type": "code",
      "source": [
        "#Converting to numpy array\n",
        "X=X.values.flatten()\n",
        "Y=Y.values.flatten()\n",
        "#flattening needed as the numpy arrays are basically mulid imensional arrea with 1 column"
      ],
      "metadata": {
        "id": "qKeCpKBGctqW"
      },
      "execution_count": 26,
      "outputs": []
    },
    {
      "cell_type": "code",
      "source": [
        "x=0\n",
        "y=0\n",
        "xy=0\n",
        "x2=0\n",
        "n=len(X)\n",
        "\n",
        "#computing values for closed form equation\n",
        "for i in range(n):\n",
        "  x+=X[i]\n",
        "  y+=Y[i]\n",
        "  xy+=X[i]*Y[i]\n",
        "  x2+=X[i]*X[i]\n",
        "\n",
        "  #finding weight and bias\n",
        "w=(n*xy-(x*y))/(n*x2 -(x*x))\n",
        "b=y/n - w*(x/n)"
      ],
      "metadata": {
        "id": "6z8C7z94ZxMP"
      },
      "execution_count": 27,
      "outputs": []
    },
    {
      "cell_type": "code",
      "source": [
        "def Linear(x_in):\n",
        "  y_pred = w*x_in +b\n",
        "  return y_pred"
      ],
      "metadata": {
        "id": "aiRjQommcAaa"
      },
      "execution_count": 28,
      "outputs": []
    },
    {
      "cell_type": "code",
      "source": [
        "#predicting values\n",
        "x=float(input('Enter the TV value'))\n",
        "y_pred=Linear(x)\n",
        "print('Predicted Sales value is',y_pred)"
      ],
      "metadata": {
        "colab": {
          "base_uri": "https://localhost:8080/"
        },
        "id": "oHUd8cOKb5iK",
        "outputId": "9b4a3fcd-c4c4-4eed-960c-124379c78548"
      },
      "execution_count": 32,
      "outputs": [
        {
          "output_type": "stream",
          "name": "stdout",
          "text": [
            "Enter the TV value180.8\n",
            "Predicted Sales value is 15.627218139417664\n"
          ]
        }
      ]
    },
    {
      "cell_type": "markdown",
      "source": [
        "The prediction will be a little off as the dataset is small and contins variance - the data points are scattered"
      ],
      "metadata": {
        "id": "8eJf7FYohBHL"
      }
    },
    {
      "cell_type": "markdown",
      "source": [
        "# Normal equation\n",
        "    multiple features, matrix utilization"
      ],
      "metadata": {
        "id": "IbgdjKO4hLDC"
      }
    },
    {
      "cell_type": "markdown",
      "source": [
        "Normal equation\n",
        "θ = (Xᵀ X)⁻¹ Xᵀ y\n",
        "\n",
        "theta is the parameter matrix"
      ],
      "metadata": {
        "id": "lXidXNLB_UPB"
      }
    },
    {
      "cell_type": "code",
      "source": [
        "#we will be using the same dataset\n",
        "df1=pd.read_csv('Advertising.csv')\n",
        "Y=df1[['Sales']].values.reshape(-1,1)\n",
        "# Drop the 'Sales' column to create X\n",
        "X = df1.drop(['Sales','Unnamed: 0'], axis=1)\n",
        "\n",
        "ones=np.ones((X.shape[0],1))  # creating an array on one\n",
        "X_b=np.hstack([ones,X])\n",
        "\n",
        "# Normal Equation\n",
        "theta = np.linalg.inv(X_b.T.dot(X_b)).dot(X_b.T).dot(Y)\n",
        "\n",
        "# Display coefficients\n",
        "print(\"Intercept (bias):\", theta[0][0])\n",
        "print(\"Coefficients:\", theta[1:].flatten())"
      ],
      "metadata": {
        "colab": {
          "base_uri": "https://localhost:8080/"
        },
        "id": "uDELx1fMhP6K",
        "outputId": "cf91a222-774e-4aba-bd8c-26a2b1224e96"
      },
      "execution_count": 20,
      "outputs": [
        {
          "output_type": "stream",
          "name": "stdout",
          "text": [
            "Intercept (bias): 2.938889369459404\n",
            "Coefficients: [ 0.04576465  0.18853002 -0.00103749]\n"
          ]
        }
      ]
    },
    {
      "cell_type": "code",
      "source": [
        "# Make a prediction\n",
        "x_new = np.array([1, 180.8, 10.8, 58.4])  # Example input with bias\n",
        "y_pred = x_new.dot(theta) # Returns an array with one element\n",
        "print(\"Predicted Sales:\", y_pred[0])\n",
        "\n",
        "print(\"Predicted Sales for input [TV=180.3, Radio=10, Newspaper=20]:\", y_pred[0])"
      ],
      "metadata": {
        "colab": {
          "base_uri": "https://localhost:8080/"
        },
        "id": "WCOYeoSABbqb",
        "outputId": "b4f5538e-b3ee-47a9-fc02-11bec1df57c4"
      },
      "execution_count": 22,
      "outputs": [
        {
          "output_type": "stream",
          "name": "stdout",
          "text": [
            "Predicted Sales: 13.188671856831315\n",
            "Predicted Sales for input [TV=180.3, Radio=10, Newspaper=20]: 13.188671856831315\n"
          ]
        }
      ]
    }
  ]
}